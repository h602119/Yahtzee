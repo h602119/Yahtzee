{
 "cells": [
  {
   "cell_type": "code",
   "execution_count": 1,
   "metadata": {},
   "outputs": [],
   "source": [
    "import pandas as pd\n",
    "import random\n",
    "import numpy as np\n",
    "import matplotlib.pyplot as plt\n",
    "import scipy.stats as stats\n",
    "import ipywidgets as widgets\n",
    "import math\n",
    "from IPython.display import display\n",
    "from math import comb"
   ]
  },
  {
   "cell_type": "markdown",
   "metadata": {},
   "source": [
    "Chance for a single die is mutually exclusive and exhaustive\n",
    "D1 = dice is 1\n",
    "D2 = dice is 2\n",
    "D6 = dice is 6\n",
    "P(D1) = P(D2) = P(D6) = 1/6\n",
    "P(D1 v D2 v ... v D6) = 1\n",
    "P(D1 & D2) = P(D2 & D6) = 0"
   ]
  },
  {
   "cell_type": "markdown",
   "metadata": {},
   "source": [
    "Part 1: \n",
    "With 63 points in first round, we get a bonus of 50 points.\n",
    "- We want to have an average of three of a kind in each instance because that will give us the bonus.\n",
    "P(D1)\n",
    "We should always try to get the bonus.\n",
    "\n",
    "We also don't want the very lowest number to have too much of a say, so we penalize it"
   ]
  },
  {
   "cell_type": "code",
   "execution_count": 2,
   "metadata": {},
   "outputs": [],
   "source": [
    "def inference_partOne(dice):\n",
    "    \n",
    "    p_outcome = 1/6\n",
    "    p_not_outcome = 1-p_outcome\n",
    "    \n",
    "    #Dictionary of the choices and their given score at the end\n",
    "    prob_dict = {}\n",
    "\n",
    "    for d in set(dice):\n",
    "        # How many of a kind\n",
    "        count = dice.count(d)\n",
    "\n",
    "        # Probability of a yahtzee our next turn.\n",
    "        ytzy_prob = math.pow(p_outcome, 5-count)\n",
    "        \n",
    "        # probability that somethings gets 3 of a kind. Heavily benefits if its over, even though its still just 100% likely.\n",
    "        beat3x_prob = math.pow(p_outcome,(3-count))\n",
    "        \n",
    "        # Overall score calculated on the probabilities and dice\n",
    "        ovral_score = (ytzy_prob+beat3x_prob)\n",
    "        \n",
    "        # Reduce the weight of the overall score for number 1,\n",
    "        # by 1/3\n",
    "        if (d == 1):\n",
    "            ovral_score = ovral_score*(1-1/3)\n",
    "            \n",
    "        # Round of because we dont care about super small variations in probability\n",
    "        prob_dict[d] = round(ovral_score, 6)\n",
    "    \n",
    "    return prob_dict        "
   ]
  },
  {
   "cell_type": "code",
   "execution_count": 52,
   "metadata": {},
   "outputs": [],
   "source": [
    "def probForDice(dice, similar):\n",
    "    p_dice = len(similar)/6\n",
    "    p_not_dice = 1-p_dice\n",
    "\n",
    "    available = len(dice)-(dice.count(similar[0])*len(similar))\n",
    "\n",
    "    #P of (at least one of similar)\n",
    "    return (1-(math.pow(p_not_dice, available)))\n",
    "    "
   ]
  },
  {
   "cell_type": "code",
   "execution_count": null,
   "metadata": {},
   "outputs": [
    {
     "name": "stdout",
     "output_type": "stream",
     "text": [
      "0.5177469135802468\n"
     ]
    }
   ],
   "source": [
    "# Section for testing and playing around with probForDice() function\n",
    "d_test = [1,2,3,4,5]\n",
    "s_test = [1,2]\n",
    "print(probForDice(d_test, s_test))"
   ]
  },
  {
   "cell_type": "code",
   "execution_count": null,
   "metadata": {},
   "outputs": [],
   "source": [
    "def keepMutipleInference(dice, similar):\n",
    "#Dictionary of the choices and their given score at the end\n",
    "    p_outcome = 1/6\n",
    "    keep_dict = {}\n",
    "    count = dice.count(similar[0])\n",
    "    \n",
    "    for i in range(len(similar)):\n",
    "        index = i+1\n",
    "        p_ytze = 0\n",
    "        p_3x = 0\n",
    "        dice_to_roll = 5-(count*index)\n",
    "        \n",
    "        #Its only possible with yahtzee if we keep 1 kind.\n",
    "        if (index == 1):\n",
    "            p_ytze = math.pow(p_outcome, 5-count)\n",
    "\n",
    "        p_3x = probForDice(dice, similar[:index])\n",
    "        \n",
    "        ovral = p_ytze + p_3x\n",
    "\n",
    "        keep_dict[similar[i]] = round(ovral, 6)\n",
    "\n",
    "    return keep_dict\n",
    "\n"
   ]
  },
  {
   "cell_type": "code",
   "execution_count": 93,
   "metadata": {},
   "outputs": [],
   "source": [
    "def probabilityThreeOfAKind(dice, similar):\n",
    "    # Probability of rolling a specific number on a die\n",
    "    p_outcome = 1 / 6\n",
    "    results = {}\n",
    "\n",
    "    # Number of dice with the same face as the first \"similar\" value\n",
    "    target_count = dice.count(similar[0])\n",
    "\n",
    "    for keep_count in range(1, len(similar) + 1):\n",
    "        # Remaining dice to roll\n",
    "        dice_to_roll = 5 - keep_count\n",
    "        success_prob = 0\n",
    "\n",
    "        # Calculate probability of getting at least (3 - keep_count) more matching dice\n",
    "        for needed in range(3 - keep_count, dice_to_roll + 1):\n",
    "            # P(getting exactly 'needed' successful rolls out of 'dice_to_roll')\n",
    "            prob = comb(dice_to_roll, needed) * (p_outcome ** needed) * ((1 - p_outcome) ** (dice_to_roll - needed))\n",
    "            success_prob += prob\n",
    "        \n",
    "        results[keep_count] = round(success_prob, 6)\n",
    "\n",
    "    return results\n"
   ]
  },
  {
   "cell_type": "code",
   "execution_count": null,
   "metadata": {},
   "outputs": [
    {
     "name": "stdout",
     "output_type": "stream",
     "text": [
      "{1: np.float64(0.131944), 2: np.float64(0.421296), 3: np.float64(1.0), 4: np.float64(1.0), 5: np.float64(1.0)}\n",
      "3125\n"
     ]
    }
   ],
   "source": [
    "dice = [2, 6, 3, 5, 4]\n",
    "similar = [2, 6, 3, 5, 4]\n",
    "print(probabilityThreeOfAKind(dice, similar))\n"
   ]
  },
  {
   "cell_type": "code",
   "execution_count": null,
   "metadata": {},
   "outputs": [
    {
     "name": "stdout",
     "output_type": "stream",
     "text": [
      "0.16666666666666666\n"
     ]
    }
   ],
   "source": [
    "# Playing around with the Binomial Probability Function\n",
    "p = 1/6\n",
    "n_p = 1-p\n",
    "k = 1\n",
    "n = 1\n",
    "dice = [3,3,3,3,4]\n",
    "\n",
    "binom_prob_func = (comb(n, k))*(p**k)*(n_p**(n-k))\n",
    "\n",
    "print(binom_prob_func)"
   ]
  },
  {
   "cell_type": "code",
   "execution_count": null,
   "metadata": {},
   "outputs": [],
   "source": [
    "def keepDiceDecision(dice, available, prob_dict):\n",
    "    \n",
    "    # By default we keep one dice\n",
    "    keepDice = 1\n",
    "\n",
    "    # If we didnt roll any available dice, reroll all dice\n",
    "    if not any(key in available for key in prob_dict.keys()):\n",
    "        return 0\n",
    "    \n",
    "    \n",
    "    # Find highest probabilities, can be multiple \n",
    "    high_key = max(prob_dict, key=prob_dict.get)\n",
    "    same_value_keys = [key for key, value in prob_dict.items() if value == prob_dict[high_key]]\n",
    "    \n",
    "    \n",
    "    # Use keepMultipleInference to check how many dice we should keep\n",
    "    if len(same_value_keys) > 1:\n",
    "        keepMultiple = keepMutipleInference(dice, same_value_keys)\n",
    "        print(keepMultiple)\n",
    "        keepDice = max(keepMultiple, key=prob_dict.get)\n",
    "    \n",
    "\n",
    "    return keepDice"
   ]
  },
  {
   "cell_type": "code",
   "execution_count": null,
   "metadata": {},
   "outputs": [],
   "source": [
    "print(keepDiceDecision())"
   ]
  },
  {
   "cell_type": "code",
   "execution_count": null,
   "metadata": {},
   "outputs": [],
   "source": [
    "def keepDice(prob_dict, available):\n",
    "    \n",
    "    # If we didnt roll any available dice, then pick the highest one.\n",
    "    if not any(key in available for key in prob_dict.keys()):\n",
    "        return available[-1]\n",
    "\n",
    "    #highest key\n",
    "    high_key = 0\n",
    "    #highest value\n",
    "    high_val = 0\n",
    "    \n",
    "    for key, value in prob_dict.items():\n",
    "        if (value >= high_val) and key in available:\n",
    "            high_val = value\n",
    "            high_key = key\n",
    "    \n",
    "    return high_key"
   ]
  },
  {
   "cell_type": "code",
   "execution_count": null,
   "metadata": {},
   "outputs": [],
   "source": [
    "def rollDice():\n",
    "    return sorted([random.randint(1, 6) for _ in range(5)])\n",
    "\n",
    "def rollDiceKeepType(dice, keep):\n",
    "    copy = dice.copy()\n",
    "    for i in range(len(dice)):\n",
    "        if (dice[i] != keep):\n",
    "            copy[i] = random.randint(1,6)\n",
    "    \n",
    "    return sorted(copy)\n"
   ]
  },
  {
   "cell_type": "code",
   "execution_count": null,
   "metadata": {},
   "outputs": [],
   "source": [
    "def oneGameSim(available):\n",
    "    score = 0\n",
    "    kept = 0\n",
    "    dice = rollDice()\n",
    "    print(\"intial roll\")\n",
    "    print(dice)\n",
    "    #Test specific dice combination\n",
    "    #dice = [1,1,1,4,4]\n",
    "    turn = 2\n",
    "    for i in range (turn):\n",
    "        # Calculate probability for high scores\n",
    "        prob_dict = inference_partOne(dice)\n",
    "        # Get the one that is kept based on prob_dict\n",
    "        kept = keepDice(prob_dict, available)\n",
    "        dice = rollDiceKeepType(dice, kept)\n",
    "        print(\"-.-.-.-.-.-\")\n",
    "        keepDiceDecision(dice, available, prob_dict)\n",
    "        print(\"-.-.-.-.-.-\")\n",
    "\n",
    "    \n",
    "\n",
    "    count = dice.count(kept)\n",
    "    if (kept > 3 and count < 3 and available.count(1) != 0):\n",
    "        # Use extra life we shouldt waste our good slots on bad numbers\n",
    "        kept = 1\n",
    "\n",
    "    count = dice.count(kept)\n",
    "    score += count*kept\n",
    "\n",
    "    \n",
    "    return (score, kept)\n",
    "    "
   ]
  },
  {
   "cell_type": "code",
   "execution_count": null,
   "metadata": {},
   "outputs": [
    {
     "ename": "NameError",
     "evalue": "name 'oneGameSim' is not defined",
     "output_type": "error",
     "traceback": [
      "\u001b[1;31m---------------------------------------------------------------------------\u001b[0m",
      "\u001b[1;31mNameError\u001b[0m                                 Traceback (most recent call last)",
      "Cell \u001b[1;32mIn[1], line 7\u001b[0m\n\u001b[0;32m      4\u001b[0m \u001b[38;5;66;03m# Game Simulation\u001b[39;00m\n\u001b[0;32m      5\u001b[0m \u001b[38;5;28;01mfor\u001b[39;00m _ \u001b[38;5;129;01min\u001b[39;00m \u001b[38;5;28mrange\u001b[39m(repeat):\n\u001b[0;32m      6\u001b[0m    \u001b[38;5;66;03m#while(len(available) > 0):\u001b[39;00m\n\u001b[1;32m----> 7\u001b[0m    s, k \u001b[38;5;241m=\u001b[39m \u001b[43moneGameSim\u001b[49m(available)\n\u001b[0;32m      8\u001b[0m    available\u001b[38;5;241m.\u001b[39mremove(k)\n\u001b[0;32m      9\u001b[0m    score \u001b[38;5;241m+\u001b[39m\u001b[38;5;241m=\u001b[39m s\n",
      "\u001b[1;31mNameError\u001b[0m: name 'oneGameSim' is not defined"
     ]
    }
   ],
   "source": [
    "repeat = 1\n",
    "score = 0\n",
    "available = [1, 2, 3, 4, 5, 6]\n",
    "# Game Simulation\n",
    "for _ in range(repeat):\n",
    "   #while(len(available) > 0):\n",
    "   s, k = oneGameSim(available)\n",
    "   available.remove(k)\n",
    "   score += s\n",
    "   print(f\"used: {k}\")\n",
    "   print(f\"available: {available}\")\n",
    "   print(f\"new score: {score}\")\n",
    "   print(\"---------------\")\n",
    "   print(f\"Final score: {score}\")\n",
    "\n",
    "\n",
    "\n",
    "# Add logic for final selection\n",
    "# [6,6,2,3,3] as a final roll will say we should pick 6, but then we use up that spot.\n"
   ]
  },
  {
   "cell_type": "code",
   "execution_count": null,
   "metadata": {},
   "outputs": [
    {
     "name": "stdout",
     "output_type": "stream",
     "text": [
      "None\n"
     ]
    }
   ],
   "source": []
  },
  {
   "cell_type": "code",
   "execution_count": null,
   "metadata": {},
   "outputs": [],
   "source": []
  }
 ],
 "metadata": {
  "kernelspec": {
   "display_name": "Python 3",
   "language": "python",
   "name": "python3"
  },
  "language_info": {
   "codemirror_mode": {
    "name": "ipython",
    "version": 3
   },
   "file_extension": ".py",
   "mimetype": "text/x-python",
   "name": "python",
   "nbconvert_exporter": "python",
   "pygments_lexer": "ipython3",
   "version": "3.13.0"
  }
 },
 "nbformat": 4,
 "nbformat_minor": 2
}
