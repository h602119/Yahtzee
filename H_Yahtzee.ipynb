{
 "cells": [
  {
   "cell_type": "code",
   "execution_count": 1,
   "metadata": {},
   "outputs": [],
   "source": [
    "import pandas as pd\n",
    "import random\n",
    "import numpy as np\n",
    "import matplotlib.pyplot as plt\n",
    "import scipy.stats as stats\n",
    "import ipywidgets as widgets\n",
    "import math\n",
    "from IPython.display import display\n",
    "from math import comb"
   ]
  },
  {
   "cell_type": "markdown",
   "metadata": {},
   "source": [
    "Chance for a single die is mutually exclusive and exhaustive\n",
    "D1 = dice is 1\n",
    "D2 = dice is 2\n",
    "D6 = dice is 6\n",
    "P(D1) = P(D2) = P(D6) = 1/6\n",
    "P(D1 v D2 v ... v D6) = 1\n",
    "P(D1 & D2) = P(D2 & D6) = 0"
   ]
  },
  {
   "cell_type": "markdown",
   "metadata": {},
   "source": [
    "Part 1: \n",
    "With 63 points in first round, we get a bonus of 50 points.\n",
    "- We want to have an average of three of a kind in each instance because that will give us the bonus.\n",
    "P(D1)\n",
    "We should always try to get the bonus.\n",
    "\n",
    "We also don't want the very lowest number to have too much of a say, so we penalize it"
   ]
  },
  {
   "cell_type": "code",
   "execution_count": null,
   "metadata": {},
   "outputs": [],
   "source": [
    "def inference_partOne(dice):\n",
    "    \n",
    "    p_outcome = 1/6\n",
    "    \n",
    "    #Dictionary of the choices and their given score at the end\n",
    "    prob_dict = {}\n",
    "\n",
    "    for d in set(dice):\n",
    "        # How many of a kind\n",
    "        count = dice.count(d)\n",
    "\n",
    "        # Probability of a yahtzee our next turn.\n",
    "        ytzy_prob = math.pow(p_outcome, 5-count)\n",
    "        \n",
    "        # probability that somethings gets 3 of a kind. Heavily benefits if its over, even though its still just 100% likely.\n",
    "        beat3x_prob = math.pow(p_outcome,(3-count))\n",
    "        \n",
    "        # Overall score calculated on the probabilities and dice\n",
    "        ovral_score = (ytzy_prob+beat3x_prob)\n",
    "        \n",
    "        # Reduce the weight of the overall score for number 1,\n",
    "        # by 1/3\n",
    "        if (d == 1):\n",
    "            ovral_score = ovral_score*(1-1/3)\n",
    "            \n",
    "        # Round of because we dont care about super small variations in probability\n",
    "        prob_dict[d] = round(ovral_score, 6)\n",
    "    \n",
    "    return prob_dict        "
   ]
  },
  {
   "cell_type": "code",
   "execution_count": null,
   "metadata": {},
   "outputs": [],
   "source": [
    "def keepMutipleInference(dice, similar):\n",
    "#Dictionary of the choices and their given score at the end\n",
    "    p_outcome = 1/6\n",
    "    keep_dict = {}\n",
    "    count = dice.count(similar[0])\n",
    "    \n",
    "    for i in range(len(similar)):\n",
    "        index = i+1\n",
    "        p_ytze = math.pow(p_outcome, 5-count)\n",
    "        p_3x = math.pow(p_outcome, 3-count)\n",
    "        ovral = p_ytze+p_3x\n",
    "\n",
    "        keep_dict[index] = round(ovral, 6)\n",
    "\n",
    "\n"
   ]
  },
  {
   "cell_type": "code",
   "execution_count": 10,
   "metadata": {},
   "outputs": [],
   "source": [
    "def decision(dice, available, prob_dict):\n",
    "\n",
    "    # If we didnt roll any available dice, then pick the highest one available.\n",
    "    if not any(key in available for key in prob_dict.keys()):\n",
    "        print(\"no like\")\n",
    "        return available[-1]\n",
    "    \n",
    "    # Find highest probabilities, can be multiple \n",
    "    high_key = max(prob_dict, key=prob_dict.get)\n",
    "    same_value_keys = [key for key, value in prob_dict.items() if value == prob_dict[high_key]]\n",
    "    if len(same_value_keys) > 1:\n",
    "        print(\"Multiple ones...\")\n",
    "        print(same_value_keys)\n",
    "    else:\n",
    "        print(f\"One high {high_key}\")\n",
    "        print(dice)\n",
    "\n",
    "    # Should we pick multiple dice to keep\n",
    "\n",
    "\n",
    "    return dice[0]"
   ]
  },
  {
   "cell_type": "code",
   "execution_count": 4,
   "metadata": {},
   "outputs": [],
   "source": [
    "def keepDice(prob_dict, available):\n",
    "    \n",
    "    # If we didnt roll any available dice, then pick the highest one.\n",
    "    if not any(key in available for key in prob_dict.keys()):\n",
    "        return available[-1]\n",
    "\n",
    "    #highest key\n",
    "    high_key = 0\n",
    "    #highest value\n",
    "    high_val = 0\n",
    "    \n",
    "    for key, value in prob_dict.items():\n",
    "        if (value >= high_val) and key in available:\n",
    "            high_val = value\n",
    "            high_key = key\n",
    "    \n",
    "    return high_key"
   ]
  },
  {
   "cell_type": "code",
   "execution_count": 5,
   "metadata": {},
   "outputs": [],
   "source": [
    "def rollDice():\n",
    "    return sorted([random.randint(1, 6) for _ in range(5)])\n",
    "\n",
    "def rollDiceKeepType(dice, keep):\n",
    "    copy = dice.copy()\n",
    "    for i in range(len(dice)):\n",
    "        if (dice[i] != keep):\n",
    "            copy[i] = random.randint(1,6)\n",
    "    \n",
    "    return sorted(copy)\n"
   ]
  },
  {
   "cell_type": "code",
   "execution_count": 14,
   "metadata": {},
   "outputs": [],
   "source": [
    "def oneGameSim(available):\n",
    "    score = 0\n",
    "    kept = 0\n",
    "    dice = rollDice()\n",
    "    print(\"intial roll\")\n",
    "    print(dice)\n",
    "    #Test specific dice combination\n",
    "    #dice = [1,1,1,4,4]\n",
    "    turn = 2\n",
    "    for i in range (turn):\n",
    "        # Calculate probability for high scores\n",
    "        prob_dict = inference_partOne(dice)\n",
    "        # Get the one that is kept based on prob_dict\n",
    "        kept = keepDice(prob_dict, available)\n",
    "        dice = rollDiceKeepType(dice, kept)\n",
    "        print(\"-.-.-.-.-.-\")\n",
    "        decision(dice, available, prob_dict)\n",
    "        print(\"-.-.-.-.-.-\")\n",
    "\n",
    "    \n",
    "\n",
    "    count = dice.count(kept)\n",
    "    if (kept > 3 and count < 3 and available.count(1) != 0):\n",
    "        # Use extra life we shouldt waste our good slots on bad numbers\n",
    "        kept = 1\n",
    "\n",
    "    count = dice.count(kept)\n",
    "    score += count*kept\n",
    "\n",
    "    \n",
    "    return (score, kept)\n",
    "    "
   ]
  },
  {
   "cell_type": "code",
   "execution_count": 17,
   "metadata": {},
   "outputs": [
    {
     "name": "stdout",
     "output_type": "stream",
     "text": [
      "intial roll\n",
      "[2, 4, 5, 5, 6]\n",
      "-.-.-.-.-.-\n",
      "One high 5\n",
      "[2, 5, 5, 6, 6]\n",
      "-.-.-.-.-.-\n",
      "-.-.-.-.-.-\n",
      "Multiple ones...\n",
      "[5, 6]\n",
      "-.-.-.-.-.-\n",
      "used: 6\n",
      "available: [1, 2, 3, 4, 5]\n",
      "new score: 18\n",
      "---------------\n",
      "Final score: 18\n"
     ]
    }
   ],
   "source": [
    "repeat = 1\n",
    "score = 0\n",
    "available = [1, 2, 3, 4, 5, 6]\n",
    "# Game Simulation\n",
    "for _ in range(repeat):\n",
    "   #while(len(available) > 0):\n",
    "   s, k = oneGameSim(available)\n",
    "   available.remove(k)\n",
    "   score += s\n",
    "   print(f\"used: {k}\")\n",
    "   print(f\"available: {available}\")\n",
    "   print(f\"new score: {score}\")\n",
    "   print(\"---------------\")\n",
    "   print(f\"Final score: {score}\")\n",
    "\n",
    "\n",
    "\n",
    "# Add logic for final selection\n",
    "# [6,6,2,3,3] as a final roll will say we should pick 6, but then we use up that spot.\n"
   ]
  },
  {
   "cell_type": "code",
   "execution_count": null,
   "metadata": {},
   "outputs": [],
   "source": []
  },
  {
   "cell_type": "code",
   "execution_count": null,
   "metadata": {},
   "outputs": [],
   "source": []
  }
 ],
 "metadata": {
  "kernelspec": {
   "display_name": "Python 3",
   "language": "python",
   "name": "python3"
  },
  "language_info": {
   "codemirror_mode": {
    "name": "ipython",
    "version": 3
   },
   "file_extension": ".py",
   "mimetype": "text/x-python",
   "name": "python",
   "nbconvert_exporter": "python",
   "pygments_lexer": "ipython3",
   "version": "3.13.0"
  }
 },
 "nbformat": 4,
 "nbformat_minor": 2
}
