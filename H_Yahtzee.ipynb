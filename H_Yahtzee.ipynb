{
 "cells": [
  {
   "cell_type": "code",
   "execution_count": 9,
   "metadata": {},
   "outputs": [],
   "source": [
    "import pandas as pd\n",
    "import random\n",
    "import numpy as np\n",
    "#import matplotlib.pyplot as plt\n",
    "#import scipy.stats as stats\n",
    "#import ipywidgets as widgets\n",
    "import math\n",
    "from IPython.display import display\n",
    "from math import comb"
   ]
  },
  {
   "cell_type": "markdown",
   "metadata": {},
   "source": [
    "Chance for a single die is mutually exclusive and exhaustive\n",
    "D1 = dice is 1\n",
    "D2 = dice is 2\n",
    "D6 = dice is 6\n",
    "P(D1) = P(D2) = P(D6) = 1/6\n",
    "P(D1 v D2 v ... v D6) = 1\n",
    "P(D1 & D2) = P(D2 & D6) = 0"
   ]
  },
  {
   "cell_type": "markdown",
   "metadata": {},
   "source": [
    "Part 1: \n",
    "With 63 points in first round, we get a bonus of 50 points.\n",
    "- We want to have an average of three of a kind in each instance because that will give us the bonus.\n",
    "P(D1)\n",
    "We should always try to get the bonus.\n",
    "\n",
    "We also don't want the very lowest number to have too much of a say, so we penalize it"
   ]
  },
  {
   "cell_type": "code",
   "execution_count": 10,
   "metadata": {},
   "outputs": [],
   "source": [
    "def inference_partOne(dice):\n",
    "    \n",
    "    p_outcome = 1/6\n",
    "    p_not_outcome = 1-p_outcome\n",
    "    \n",
    "    #Dictionary of the choices and their given score at the end\n",
    "    prob_dict = {}\n",
    "\n",
    "    for d in set(dice):\n",
    "        # How many of a kind\n",
    "        count = dice.count(d)\n",
    "\n",
    "        # Probability of a yahtzee our next turn.\n",
    "        ytzy_prob = math.pow(p_outcome, 5-count)\n",
    "        \n",
    "        # probability that somethings gets 3 of a kind. Heavily benefits if its over, even though its still just 100% likely.\n",
    "        beat3x_prob = math.pow(p_outcome,(3-count))\n",
    "        \n",
    "        # Overall score calculated on the probabilities and dice\n",
    "        ovral_score = (ytzy_prob+beat3x_prob)\n",
    "        \n",
    "        # Reduce the weight of the overall score for number 1,\n",
    "        # by 1/3\n",
    "        if (d == 1):\n",
    "            ovral_score = ovral_score*(1-1/3)\n",
    "            \n",
    "        # Round of because we dont care about super small variations in probability\n",
    "        prob_dict[d] = round(ovral_score, 6)\n",
    "    \n",
    "    return prob_dict        "
   ]
  },
  {
   "cell_type": "code",
   "execution_count": 76,
   "metadata": {},
   "outputs": [],
   "source": [
    "def probForDice(dice, similar):\n",
    "    p_not_dice = (len(dice)-len(similar))/len(dice)\n",
    "    print(p_not_dice)\n",
    "\n",
    "    available = dice-(dice.count(similar)*len(similar))\n",
    "    print(available)\n",
    "\n",
    "    #P(at least one of similar)\n",
    "    return (1-(math.pow(p_not_dice, available)))\n",
    "    "
   ]
  },
  {
   "cell_type": "code",
   "execution_count": 77,
   "metadata": {},
   "outputs": [
    {
     "name": "stdout",
     "output_type": "stream",
     "text": [
      "0.6\n"
     ]
    },
    {
     "ename": "TypeError",
     "evalue": "unsupported operand type(s) for -: 'list' and 'int'",
     "output_type": "error",
     "traceback": [
      "\u001b[1;31m---------------------------------------------------------------------------\u001b[0m",
      "\u001b[1;31mTypeError\u001b[0m                                 Traceback (most recent call last)",
      "Cell \u001b[1;32mIn[77], line 3\u001b[0m\n\u001b[0;32m      1\u001b[0m d33 \u001b[38;5;241m=\u001b[39m [\u001b[38;5;241m2\u001b[39m,\u001b[38;5;241m2\u001b[39m,\u001b[38;5;241m3\u001b[39m,\u001b[38;5;241m3\u001b[39m,\u001b[38;5;241m6\u001b[39m]\n\u001b[0;32m      2\u001b[0m s33 \u001b[38;5;241m=\u001b[39m [\u001b[38;5;241m2\u001b[39m,\u001b[38;5;241m3\u001b[39m]\n\u001b[1;32m----> 3\u001b[0m \u001b[38;5;28mprint\u001b[39m(\u001b[43mprobForDice\u001b[49m\u001b[43m(\u001b[49m\u001b[43md33\u001b[49m\u001b[43m,\u001b[49m\u001b[43m \u001b[49m\u001b[43ms33\u001b[49m\u001b[43m)\u001b[49m)\n",
      "Cell \u001b[1;32mIn[76], line 5\u001b[0m, in \u001b[0;36mprobForDice\u001b[1;34m(dice, similar)\u001b[0m\n\u001b[0;32m      2\u001b[0m p_not_dice \u001b[38;5;241m=\u001b[39m (\u001b[38;5;28mlen\u001b[39m(dice)\u001b[38;5;241m-\u001b[39m\u001b[38;5;28mlen\u001b[39m(similar))\u001b[38;5;241m/\u001b[39m\u001b[38;5;28mlen\u001b[39m(dice)\n\u001b[0;32m      3\u001b[0m \u001b[38;5;28mprint\u001b[39m(p_not_dice)\n\u001b[1;32m----> 5\u001b[0m available \u001b[38;5;241m=\u001b[39m \u001b[43mdice\u001b[49m\u001b[38;5;241;43m-\u001b[39;49m\u001b[43m(\u001b[49m\u001b[43mdice\u001b[49m\u001b[38;5;241;43m.\u001b[39;49m\u001b[43mcount\u001b[49m\u001b[43m(\u001b[49m\u001b[43msimilar\u001b[49m\u001b[43m)\u001b[49m\u001b[38;5;241;43m*\u001b[39;49m\u001b[38;5;28;43mlen\u001b[39;49m\u001b[43m(\u001b[49m\u001b[43msimilar\u001b[49m\u001b[43m)\u001b[49m\u001b[43m)\u001b[49m\n\u001b[0;32m      6\u001b[0m \u001b[38;5;28mprint\u001b[39m(available)\n\u001b[0;32m      8\u001b[0m \u001b[38;5;66;03m#P(at least one of similar)\u001b[39;00m\n",
      "\u001b[1;31mTypeError\u001b[0m: unsupported operand type(s) for -: 'list' and 'int'"
     ]
    }
   ],
   "source": [
    "d33 = [2,2,3,3,6]\n",
    "s33 = [2,3]\n",
    "print(probForDice(d33, s33))"
   ]
  },
  {
   "cell_type": "code",
   "execution_count": 12,
   "metadata": {},
   "outputs": [],
   "source": [
    "def keepMutipleInference(dice, similar):\n",
    "#Dictionary of the choices and their given score at the end\n",
    "    p_outcome = 1/6\n",
    "    keep_dict = {}\n",
    "    count = dice.count(similar[0])\n",
    "    \n",
    "    for i in range(len(similar)):\n",
    "        index = i+1\n",
    "        p_ytze = 0\n",
    "        p_3x = 0\n",
    "        dice_to_roll = 5-(count*index)\n",
    "        \n",
    "        #Its only possible with yahtzee if we keep 1 kind.\n",
    "        if (index == 1):\n",
    "            p_ytze = math.pow(p_outcome, 5-count)\n",
    "\n",
    "        #Its not possible with three of a kind if we try to keep four vales.\n",
    "        if(index <= 3):\n",
    "            p_3x = probForDice(dice, similar)\n",
    "        \n",
    "        ovral = p_ytze+p_3x\n",
    "\n",
    "        keep_dict[index] = round(ovral, 6)\n",
    "\n",
    "\n"
   ]
  },
  {
   "cell_type": "code",
   "execution_count": 13,
   "metadata": {},
   "outputs": [],
   "source": [
    "def decision(dice, available, prob_dict):\n",
    "\n",
    "    # If we didnt roll any available dice, then pick the highest one available.\n",
    "    if not any(key in available for key in prob_dict.keys()):\n",
    "        print(\"no like\")\n",
    "        return available[-1]\n",
    "    \n",
    "    # Find highest probabilities, can be multiple \n",
    "    high_key = max(prob_dict, key=prob_dict.get)\n",
    "    same_value_keys = [key for key, value in prob_dict.items() if value == prob_dict[high_key]]\n",
    "    if len(same_value_keys) > 1:\n",
    "        print(\"Multiple ones...\")\n",
    "        print(same_value_keys)\n",
    "    else:\n",
    "        print(f\"One high {high_key}\")\n",
    "        print(dice)\n",
    "\n",
    "    # Should we pick multiple dice to keep\n",
    "\n",
    "\n",
    "    return dice[0]"
   ]
  },
  {
   "cell_type": "code",
   "execution_count": 14,
   "metadata": {},
   "outputs": [],
   "source": [
    "def keepDice(prob_dict, available):\n",
    "    \n",
    "    # If we didnt roll any available dice, then pick the highest one.\n",
    "    if not any(key in available for key in prob_dict.keys()):\n",
    "        return available[-1]\n",
    "\n",
    "    #highest key\n",
    "    high_key = 0\n",
    "    #highest value\n",
    "    high_val = 0\n",
    "    \n",
    "    for key, value in prob_dict.items():\n",
    "        if (value >= high_val) and key in available:\n",
    "            high_val = value\n",
    "            high_key = key\n",
    "    \n",
    "    return high_key"
   ]
  },
  {
   "cell_type": "code",
   "execution_count": 15,
   "metadata": {},
   "outputs": [],
   "source": [
    "def rollDice():\n",
    "    return sorted([random.randint(1, 6) for _ in range(5)])\n",
    "\n",
    "def rollDiceKeepType(dice, keep):\n",
    "    copy = dice.copy()\n",
    "    for i in range(len(dice)):\n",
    "        if (dice[i] != keep):\n",
    "            copy[i] = random.randint(1,6)\n",
    "    \n",
    "    return sorted(copy)\n"
   ]
  },
  {
   "cell_type": "code",
   "execution_count": 16,
   "metadata": {},
   "outputs": [],
   "source": [
    "def oneGameSim(available):\n",
    "    score = 0\n",
    "    kept = 0\n",
    "    dice = rollDice()\n",
    "    print(\"intial roll\")\n",
    "    print(dice)\n",
    "    #Test specific dice combination\n",
    "    #dice = [1,1,1,4,4]\n",
    "    turn = 2\n",
    "    for i in range (turn):\n",
    "        # Calculate probability for high scores\n",
    "        prob_dict = inference_partOne(dice)\n",
    "        # Get the one that is kept based on prob_dict\n",
    "        kept = keepDice(prob_dict, available)\n",
    "        dice = rollDiceKeepType(dice, kept)\n",
    "        print(\"-.-.-.-.-.-\")\n",
    "        decision(dice, available, prob_dict)\n",
    "        print(\"-.-.-.-.-.-\")\n",
    "\n",
    "    \n",
    "\n",
    "    count = dice.count(kept)\n",
    "    if (kept > 3 and count < 3 and available.count(1) != 0):\n",
    "        # Use extra life we shouldt waste our good slots on bad numbers\n",
    "        kept = 1\n",
    "\n",
    "    count = dice.count(kept)\n",
    "    score += count*kept\n",
    "\n",
    "    \n",
    "    return (score, kept)\n",
    "    "
   ]
  },
  {
   "cell_type": "code",
   "execution_count": 67,
   "metadata": {},
   "outputs": [
    {
     "name": "stdout",
     "output_type": "stream",
     "text": [
      "intial roll\n",
      "[1, 1, 2, 4, 6]\n",
      "-.-.-.-.-.-\n",
      "One high 1\n",
      "[1, 1, 1, 3, 4]\n",
      "-.-.-.-.-.-\n",
      "-.-.-.-.-.-\n",
      "One high 1\n",
      "[1, 1, 1, 2, 6]\n",
      "-.-.-.-.-.-\n",
      "used: 1\n",
      "available: [2, 3, 4, 5, 6]\n",
      "new score: 3\n",
      "---------------\n",
      "Final score: 3\n"
     ]
    }
   ],
   "source": [
    "repeat = 1\n",
    "score = 0\n",
    "available = [1, 2, 3, 4, 5, 6]\n",
    "# Game Simulation\n",
    "for _ in range(repeat):\n",
    "   #while(len(available) > 0):\n",
    "   s, k = oneGameSim(available)\n",
    "   available.remove(k)\n",
    "   score += s\n",
    "   print(f\"used: {k}\")\n",
    "   print(f\"available: {available}\")\n",
    "   print(f\"new score: {score}\")\n",
    "   print(\"---------------\")\n",
    "   print(f\"Final score: {score}\")\n",
    "\n",
    "\n",
    "\n",
    "# Add logic for final selection\n",
    "# [6,6,2,3,3] as a final roll will say we should pick 6, but then we use up that spot.\n"
   ]
  },
  {
   "cell_type": "code",
   "execution_count": null,
   "metadata": {},
   "outputs": [
    {
     "name": "stdout",
     "output_type": "stream",
     "text": [
      "None\n"
     ]
    }
   ],
   "source": []
  },
  {
   "cell_type": "code",
   "execution_count": null,
   "metadata": {},
   "outputs": [],
   "source": []
  }
 ],
 "metadata": {
  "kernelspec": {
   "display_name": "Python 3",
   "language": "python",
   "name": "python3"
  },
  "language_info": {
   "codemirror_mode": {
    "name": "ipython",
    "version": 3
   },
   "file_extension": ".py",
   "mimetype": "text/x-python",
   "name": "python",
   "nbconvert_exporter": "python",
   "pygments_lexer": "ipython3",
   "version": "3.12.5"
  }
 },
 "nbformat": 4,
 "nbformat_minor": 2
}
