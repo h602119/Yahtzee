{
 "cells": [
  {
   "cell_type": "code",
   "execution_count": 67,
   "metadata": {},
   "outputs": [],
   "source": [
    "import pandas as pd\n",
    "import random\n",
    "import numpy as np\n",
    "import matplotlib.pyplot as plt\n",
    "import scipy.stats as stats\n",
    "import ipywidgets as widgets\n",
    "import math\n",
    "from IPython.display import display\n",
    "from math import comb"
   ]
  },
  {
   "cell_type": "markdown",
   "metadata": {},
   "source": [
    "Chance for a single die is mutually exclusive and exhaustive\n",
    "D1 = dice is 1\n",
    "D2 = dice is 2\n",
    "D6 = dice is 6\n",
    "P(D1) = P(D2) = P(D6) = 1/6\n",
    "P(D1 v D2 v ... v D6) = 1\n",
    "P(D1 & D2) = P(D2 & D6) = 0"
   ]
  },
  {
   "cell_type": "markdown",
   "metadata": {},
   "source": [
    "Part 1: \n",
    "With 63 points in first round, we get a bonus of 50 points.\n",
    "- We want to have an average of three of a kind in each instance because that will give us the bonus.\n",
    "P(D1)\n",
    "We should always try to get the bonus.\n",
    "\n",
    "We also don't want the very lowest number to have too much of a say, so we penalize it"
   ]
  },
  {
   "cell_type": "code",
   "execution_count": 68,
   "metadata": {},
   "outputs": [],
   "source": [
    "def inference_partOne(dice, available):\n",
    "    \n",
    "    p_outcome = 1/6\n",
    "    p_not_outcome = 1-p_outcome\n",
    "    \n",
    "    #Dictionary of the choices and their given score at the end\n",
    "    prob_dict = {}\n",
    "\n",
    "    for d in set(dice):\n",
    "        #only do inference if the dice has not been alreay used\n",
    "        if (d in available):\n",
    "            # How many of a kind\n",
    "            count = dice.count(d)\n",
    "\n",
    "            # Probability of a yahtzee our next turn.\n",
    "            ytzy_prob = math.pow(p_outcome, 5-count)\n",
    "            \n",
    "            # probability that somethings gets 3 of a kind. Heavily benefits if its over, even though its still just 100% likely.\n",
    "            beat3x_prob = math.pow(p_outcome,(3-count))\n",
    "            \n",
    "            # Overall score calculated on the probabilities and dice\n",
    "            ovral_score = (ytzy_prob+beat3x_prob)\n",
    "            \n",
    "            # Reduce the weight of the overall score for number 1,\n",
    "            # by 1/3\n",
    "            if (d == 1):\n",
    "                ovral_score = ovral_score*(1-1/3)\n",
    "                \n",
    "            # Round of because we dont care about super small variations in probability\n",
    "            prob_dict[d] = round(ovral_score, 6)\n",
    "        else:\n",
    "            prob_dict[d] = 0\n",
    "\n",
    "    return prob_dict        "
   ]
  },
  {
   "cell_type": "code",
   "execution_count": 69,
   "metadata": {},
   "outputs": [],
   "source": [
    "def probabilityThreeOfAKind(dice, similar):\n",
    "    # Probability of rolling a specific number on a die\n",
    "    p_outcome = len(similar) / 6\n",
    "    n_p_outcome = 1-p_outcome\n",
    "\n",
    "    # Number of dice with the same face as the first \"similar\" value\n",
    "    target_count = dice.count(similar[0])\n",
    "\n",
    "    # n = number of dice we're rolling\n",
    "    # k = number of additional dice needed to match the value we're aiming for\n",
    "    n = len(dice)-target_count\n",
    "    k = 3-target_count\n",
    "\n",
    "    results = (comb(n, k))*(p_outcome**k)*(n_p_outcome**(n-k))\n",
    "\n",
    "\n",
    "    return results\n"
   ]
  },
  {
   "cell_type": "code",
   "execution_count": 70,
   "metadata": {},
   "outputs": [],
   "source": [
    "def keepMutipleInference(dice, similar):\n",
    "#Dictionary of the choices and their given score at the end\n",
    "    p_outcome = 1/6\n",
    "    keep_dict = {}\n",
    "    count = dice.count(similar[0])\n",
    "    \n",
    "    for i in range(len(similar)):\n",
    "        index = i+1\n",
    "        p_ytze = 0\n",
    "        p_3x = 0\n",
    "        dice_to_roll = 5-(count*index)\n",
    "        \n",
    "        #Its only possible with yahtzee if we keep 1 kind.\n",
    "        if (index == 1):\n",
    "            p_ytze = math.pow(p_outcome, 5-count)\n",
    "\n",
    "        p_3x = probabilityThreeOfAKind(dice, similar[:index])\n",
    "        \n",
    "        ovral = p_ytze + p_3x\n",
    "\n",
    "        keep_dict[index] = round(ovral, 6)\n",
    "\n",
    "    return keep_dict\n",
    "\n"
   ]
  },
  {
   "cell_type": "code",
   "execution_count": 71,
   "metadata": {},
   "outputs": [],
   "source": [
    "# Returns the number of (amount) different dice we should keep. Not the specific type of dice. \n",
    "def keepDiceDecision(dice, available, prob_dict):\n",
    "    \n",
    "    # By default we keep one dice\n",
    "    keepDice = [0]\n",
    "    \n",
    "    # Find highest probabilities, can be multiple \n",
    "    high_die = max(prob_dict, key=prob_dict.get)\n",
    "    same_value_dice = [key for key, value in prob_dict.items() if value == prob_dict[high_die]]\n",
    "    \n",
    "    \n",
    "    # Use keepMultipleInference to check how many dice we should keep\n",
    "    if len(same_value_dice) > 1:\n",
    "        keepMultiple = keepMutipleInference(dice, same_value_dice)\n",
    "        keepDice = max(keepMultiple, key=keepMultiple.get)\n",
    "\n",
    "        same_value_dice.sort(reverse=True)\n",
    "        keepDice = same_value_dice[:keepDice]\n",
    "    else:\n",
    "        keepDice = [high_die]\n",
    "\n",
    "    return keepDice"
   ]
  },
  {
   "cell_type": "code",
   "execution_count": 72,
   "metadata": {},
   "outputs": [],
   "source": [
    "def keepDice(dice, prob_dict, available):\n",
    "    \n",
    "    # If we didnt roll any available dice, reroll all dice\n",
    "    if not any(key in available for key in prob_dict.keys()):\n",
    "        return [0]\n",
    "\n",
    "    return keepDiceDecision(dice, available, prob_dict)\n"
   ]
  },
  {
   "cell_type": "code",
   "execution_count": 73,
   "metadata": {},
   "outputs": [],
   "source": [
    "def rollDice():\n",
    "    return sorted([random.randint(1, 6) for _ in range(5)])\n",
    "\n",
    "def rollDiceKeepType(dice, keep):\n",
    "    copy = dice.copy()\n",
    "    for i in range(len(dice)):\n",
    "        if (not dice[i] in keep):\n",
    "            copy[i] = random.randint(1,6)\n",
    "    \n",
    "    return sorted(copy)\n"
   ]
  },
  {
   "cell_type": "code",
   "execution_count": 74,
   "metadata": {},
   "outputs": [],
   "source": [
    "def endTurnDecision(dice, kept, available):\n",
    "\n",
    "    # If we didnt get anything good on our last throw we should do some basic inference\n",
    "    if kept[0] == 0:\n",
    "\n",
    "        prob_dict = inference_partOne(dice, available)\n",
    "        kpt = keepDice(dice, prob_dict, available)\n",
    "        \n",
    "        if kpt[0] == 0:\n",
    "            return available[0]\n",
    "        else:\n",
    "            kept = kpt\n",
    "            \n",
    "    \n",
    "    amount = dice.count(kept[0])\n",
    "    \n",
    "    # if we have a 4, 5 or 6 which is less than 3 and we have a spare 1 available, use the one as extra life.\n",
    "    if (amount < 3) and any(x in kept for x in [4, 5, 6]) and (1 in available):\n",
    "        return available[0]\n",
    "    \n",
    "    return kept[-1]\n",
    "\n",
    "    if amount >= 3:\n",
    "        return kept[-1]\n",
    "    \n",
    "    if amount < 3:\n",
    "        return kept[0]\n",
    "\n"
   ]
  },
  {
   "cell_type": "code",
   "execution_count": 75,
   "metadata": {},
   "outputs": [],
   "source": [
    "def oneGameSim(dice, available):\n",
    "\n",
    "    kept = []\n",
    "    #Test specific dice combination\n",
    "    #dice = [1,1,1,4,4]\n",
    "    turn = 2\n",
    "    for i in range (turn):\n",
    "        # Calculate probability for high scores\n",
    "        prob_dict = inference_partOne(dice, available)\n",
    "        # Get the one that is kept based on prob_dict\n",
    "        kept = keepDice(dice, prob_dict, available)\n",
    "        dice = rollDiceKeepType(dice, kept)\n",
    "        \n",
    "    \n",
    "    eTD = endTurnDecision(dice, kept, available)\n",
    "    count = dice.count(eTD)\n",
    "    score = count*eTD\n",
    "\n",
    "    \n",
    "    return (score, eTD)\n",
    "    "
   ]
  },
  {
   "cell_type": "code",
   "execution_count": 107,
   "metadata": {},
   "outputs": [],
   "source": [
    "repeat = 400000\n",
    "round_one_score = 0\n",
    "game_score = 0\n",
    "games_score = {}\n",
    "times_yahtzee = 0\n",
    "times_yahtzee_and_63 = 0\n",
    "\n",
    "# Game Simulation\n",
    "for _ in range(repeat):\n",
    "    available = [1, 2, 3, 4, 5, 6]\n",
    "    score = 0\n",
    "    yahtzee = False\n",
    "    while(len(available) > 0):\n",
    "        dice = rollDice()\n",
    "        s, k = oneGameSim(dice, available)\n",
    "        if(s/k == 5) and not yahtzee:\n",
    "            yahtzee = True\n",
    "            game_score += 50\n",
    "            times_yahtzee += 1\n",
    "        else:\n",
    "            available.remove(k)\n",
    "            score += s\n",
    "    round_one_score += score\n",
    "    game_score += score\n",
    "    \n",
    "    if (yahtzee) and (score >= 63):\n",
    "        times_yahtzee_and_63 += 1\n",
    "\n",
    "    if score not in games_score:\n",
    "        games_score[score] = 1\n",
    "    else:\n",
    "        games_score[score] += 1\n",
    "\n",
    "# Add logic for final selection\n",
    "# [6,6,2,3,3] as a final roll will say we should pick 6, but then we use up that spot.\n"
   ]
  },
  {
   "cell_type": "code",
   "execution_count": 121,
   "metadata": {},
   "outputs": [
    {
     "name": "stdout",
     "output_type": "stream",
     "text": [
      "AVG score after 400000 games : 55\n",
      "Times player got yahtzee : 64556\n",
      "Times player got yahtzee and over 63 : 15554\n",
      "\n",
      "Percentage of games overall score was 63 or higher: 20.383%\n",
      "percentage of games :: yahtzee : 16.1%\n",
      "percentage of games :: yahtzee and score over 63 : 3.9%\n"
     ]
    },
    {
     "data": {
      "image/png": "[encoded data removed]",
      "text/plain": [
       "<Figure size 640x480 with 1 Axes>"
      ]
     },
     "metadata": {},
     "output_type": "display_data"
    }
   ],
   "source": [
    "# Benchmark from our programmed inference and decision\n",
    "\n",
    "print(f\"AVG score after {repeat} games : {round(round_one_score/repeat)}\")\n",
    "print(f\"Times player got yahtzee : {times_yahtzee}\")\n",
    "print(f\"Times player got yahtzee and over 63 : {times_yahtzee_and_63}\")\n",
    "print(\"\")\n",
    "# Calculate the percentage of times the overall score was 63 or higher\n",
    "high_score_count = sum(count for score, count in games_score.items() if score >= 63)\n",
    "percentage_high_score = (high_score_count / repeat) * 100\n",
    "print(f\"Percentage of games overall score was 63 or higher: {round(percentage_high_score,3)}%\")\n",
    "\n",
    "print(f\"percentage of games :: yahtzee : {round((times_yahtzee/repeat),3)*100}%\")\n",
    "\n",
    "print(f\"percentage of games :: yahtzee and score over 63 : {round((times_yahtzee_and_63/repeat),3)*100}%\")\n",
    "# Plotting the scores from games_score\n",
    "colors = ['red' if score >= 63 else 'blue' for score in games_score.keys()]\n",
    "plt.bar(games_score.keys(), games_score.values(), color=colors)\n",
    "plt.xlabel('Score')\n",
    "plt.ylabel('Times')\n",
    "plt.title(f'Scores from {repeat} Simulations')\n",
    "plt.show()"
   ]
  },
  {
   "cell_type": "code",
   "execution_count": null,
   "metadata": {},
   "outputs": [],
   "source": []
  },
  {
   "cell_type": "code",
   "execution_count": null,
   "metadata": {},
   "outputs": [],
   "source": []
  }
 ],
 "metadata": {
  "kernelspec": {
   "display_name": "Python 3",
   "language": "python",
   "name": "python3"
  },
  "language_info": {
   "codemirror_mode": {
    "name": "ipython",
    "version": 3
   },
   "file_extension": ".py",
   "mimetype": "text/x-python",
   "name": "python",
   "nbconvert_exporter": "python",
   "pygments_lexer": "ipython3",
   "version": "3.13.0"
  }
 },
 "nbformat": 4,
 "nbformat_minor": 2
}
