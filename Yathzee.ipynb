{
 "cells": [
  {
   "cell_type": "code",
   "execution_count": 5,
   "metadata": {},
   "outputs": [],
   "source": [
    "\n",
    "import random\n",
    "import pandas as pd\n",
    "import math "
   ]
  },
  {
   "cell_type": "markdown",
   "metadata": {},
   "source": [
    "### Scenario 4: Probability Distribution and Utility Calculation\n",
    "This implementation calculates the probability distribution for each of the dice sides, then multiplies the probabilities with its corresponding dice, and sums them up to get the corresponding utility. The algorithm then picks the one that yields the highest utility.\n"
   ]
  },
  {
   "cell_type": "code",
   "execution_count": null,
   "metadata": {},
   "outputs": [],
   "source": []
  },
  {
   "cell_type": "code",
   "execution_count": null,
   "metadata": {},
   "outputs": [
    {
     "name": "stdout",
     "output_type": "stream",
     "text": [
      "[1.0, 0, 0, 0]\n",
      "[0.5787, 0.3472, 0.0694, 0.0046]\n",
      "[0.3349, 0.4421, 0.1945, 0.0285]\n",
      "[0.1938, 0.4233, 0.3081, 0.0748]\n"
     ]
    }
   ],
   "source": [
    "\n",
    "\n",
    "def binomial_probability(n, k, p):\n",
    "    \"\"\"Calculate binomial probability of getting exactly k successes in n trials\"\"\"\n",
    "    return math.comb(n, k) * (p ** k) * ((1 - p) ** (n - k))\n",
    "\n",
    "def cumulative_probability_distribution_for_dice_set(n_turns=3, rolled_dice=1, ):\n",
    "    p = 1 / 6  # Probability of rolling a target value (e.g., \"1\")\n",
    "    \n",
    "    # Initialize the probability distribution for 0 to initial_dice ones\n",
    "    current_distribution = [0] * (rolled_dice + 1)\n",
    "    current_distribution[0] = 1.0  \n",
    "\n",
    "\n",
    "    for turn in range(n_turns):\n",
    "        next_distribution = [0] * (rolled_dice + 1)\n",
    "        \n",
    "        for current_ones in range(rolled_dice + 1):\n",
    "            remaining_dice = rolled_dice - current_ones\n",
    "\n",
    "            for new_ones in range(remaining_dice + 1):\n",
    "                prob_new_ones = binomial_probability(remaining_dice, new_ones, p)\n",
    "                next_distribution[current_ones + new_ones] += current_distribution[current_ones] * prob_new_ones\n",
    "                \n",
    "        current_distribution = next_distribution\n",
    "    current_distribution = [round(prob, 4) for prob in current_distribution]\n",
    "\n",
    "    #for ones, prob in enumerate(current_distribution):\n",
    "     #   print(f\"Probability of getting {ones} ones: {prob}\")\n",
    "\n",
    "    return current_distribution\n",
    "\n",
    "\n",
    "\n",
    "\n",
    "\n",
    "\n",
    "\n",
    "\n",
    "\n",
    "\n",
    "\n"
   ]
  },
  {
   "cell_type": "markdown",
   "metadata": {},
   "source": []
  },
  {
   "cell_type": "code",
   "execution_count": 135,
   "metadata": {},
   "outputs": [],
   "source": [
    "\n",
    "class YahtzeeSection:\n",
    "    def __init__(self, name, is_set, score, number):\n",
    "        self.name = name\n",
    "        self.is_set = is_set\n",
    "        self.score = score\n",
    "        self.number = number\n",
    "\n",
    "class Game:\n",
    "    def __init__(self):\n",
    "        self.dice_set = [0, 0, 0, 0, 0]\n",
    "        self.locked_dice = [False, False, False, False, False]\n",
    "        self.sections = [\n",
    "            YahtzeeSection(\"Ones\", False, 0, 1),\n",
    "            YahtzeeSection(\"Twos\", False, 0, 2),\n",
    "            YahtzeeSection(\"Threes\", False, 0, 3),\n",
    "            YahtzeeSection(\"Fours\", False, 0, 4),\n",
    "            YahtzeeSection(\"Fives\", False, 0, 5),\n",
    "            YahtzeeSection(\"Sixes\", False, 0, 6),\n",
    "        ]\n",
    "        self.total_rounds = 6\n",
    "        self.total_score = 0\n",
    "        self.total_turns_in_a_round = 3 \n",
    "\n",
    "    def roll_all_dice(self):\n",
    "        for i in range(5):\n",
    "            if self.locked_dice[i] == False:\n",
    "                self.dice_set[i] = random.randint(1, 6)\n",
    "\n",
    "\n",
    "    def calculate_score(self):\n",
    "        for section in self.sections:\n",
    "            self.total_score += section.score\n",
    "\n",
    "    def make_decision_greedy(self, expected_utilities, turn):\n",
    "        for section in self.sections:\n",
    "            if section.is_set == True:\n",
    "                expected_utilities[section.number - 1] = 0\n",
    "        \n",
    "        max_utility = max(expected_utilities)\n",
    "        max_utility_index = expected_utilities.index(max_utility)\n",
    "        \n",
    "        return max_utility_index\n",
    "       \n",
    "        #print(max_utility_index + 1, \"is set\")\n",
    "\n",
    "\n",
    "    def play_round(self):\n",
    "        remaining_turns = self.total_turns_in_a_round \n",
    "        for turn in range(self.total_turns_in_a_round):\n",
    "            remaining_turns = remaining_turns - turn\n",
    "            \n",
    "            self.roll_all_dice()\n",
    "            #print(\"Roll\", turn + 1)\n",
    "          \n",
    "            dice_count = []\n",
    "            expected_utilities = []\n",
    "\n",
    "            for dice_value in range(6):\n",
    "                dice_count.append(self.dice_set.count(dice_value + 1))\n",
    "\n",
    "                simulated_rolled_dice = 5 - dice_count[dice_value]\n",
    "                distribution = cumulative_probability_distribution_for_dice_set(n_turns=self.total_turns_in_a_round - turn, rolled_dice=simulated_rolled_dice)\n",
    "                #print(f\"distribution: {distribution}\")\n",
    "\n",
    "                expected_utility = 0\n",
    "                for k, prob in enumerate(distribution):\n",
    "                    expected_utility += (k + dice_count[dice_value]) * prob * (dice_value + 1)\n",
    "\n",
    "                #print(f\"expected_utilities for dice value {dice_value + 1}: {expected_utilities}\")\n",
    "                expected_utilities.append(expected_utility)\n",
    "  #          print(f\"expected_utilities : {expected_utilities}\")\n",
    "            kept_dice = self.make_decision_greedy(expected_utilities, turn) + 1\n",
    "   #         print(f\"kept_dice: {kept_dice}\")\n",
    "            \n",
    "            \n",
    "            for i in range(len(self.dice_set)):\n",
    "                if self.dice_set[i] == kept_dice:\n",
    "                    self.locked_dice[i] = True\n",
    "                else:\n",
    "                    self.locked_dice[i] = False\n",
    " #           print(f\"dice_set: {self.dice_set}\")\n",
    "#            print(f\"locked_dice\", self.locked_dice)\n",
    "\n",
    "        products = []\n",
    "        for i in range (6):\n",
    "          \n",
    "            prod = dice_count[i] * (i + 1)\n",
    "            if self.sections[i].is_set == True:\n",
    "                prod = 0\n",
    "            products.append(prod) \n",
    "\n",
    "\n",
    "         \n",
    "\n",
    "        maximum = max(products)\n",
    "        maximum_index = products.index(maximum)\n",
    "        #print(f\"products\" , products)\n",
    "        #print(f\"maximum\", maximum)\n",
    "        self.sections[maximum_index].is_set = True\n",
    "        self.sections[maximum_index].score = maximum\n",
    "     \n",
    "\n",
    "\n",
    "    def play_game(self):\n",
    "        for i in range(self.total_rounds):\n",
    "            self.play_round()\n",
    "        self.calculate_score()\n",
    "       # print(\"Total Score:\", self.total_score)\n",
    "\n",
    "            "
   ]
  },
  {
   "cell_type": "code",
   "execution_count": 138,
   "metadata": {},
   "outputs": [
    {
     "name": "stdout",
     "output_type": "stream",
     "text": [
      "Average score over 40000 games: 49.459075\n",
      "Ones: 1\n",
      "Twos: 4\n",
      "Threes: 3\n",
      "Fours: 8\n",
      "Fives: 10\n",
      "Sixes: 12\n"
     ]
    }
   ],
   "source": [
    "\n",
    "\n",
    "# Simulation\n",
    "num_simulations = 40000\n",
    "total_scores = []\n",
    "\n",
    "for _ in range(num_simulations):\n",
    "    game = Game()\n",
    "    game.play_game()\n",
    "    total_scores.append(game.total_score)\n",
    "    \n",
    "\n",
    "# Analyze results\n",
    "average_score = sum(total_scores) / num_simulations\n",
    "print(f\"Average score over {num_simulations} games: {average_score}\")\n",
    "\n",
    "for section in game.sections:\n",
    "    print(f\"{section.name}: {section.score}\")\n"
   ]
  },
  {
   "cell_type": "code",
   "execution_count": null,
   "metadata": {},
   "outputs": [
    {
     "name": "stdout",
     "output_type": "stream",
     "text": [
      "Average score over 40000 games: 49.403975\n"
     ]
    },
    {
     "data": {
      "image/png": "[encoded data removed]",
      "text/plain": [
       "<Figure size 640x480 with 1 Axes>"
      ]
     },
     "metadata": {},
     "output_type": "display_data"
    },
    {
     "name": "stdout",
     "output_type": "stream",
     "text": [
      "Ones: 1\n",
      "Twos: 4\n",
      "Threes: 6\n",
      "Fours: 12\n",
      "Fives: 20\n",
      "Sixes: 18\n"
     ]
    }
   ],
   "source": [
    "import matplotlib.pyplot as plt\n",
    "from collections import Counter\n",
    "\n",
    "# Simulation\n",
    "num_simulations = 40000\n",
    "total_scores = []\n",
    "\n",
    "for _ in range(num_simulations):\n",
    "    game = Game()\n",
    "    game.play_game()\n",
    "    total_scores.append(game.total_score)\n",
    "\n",
    "# Analyze results\n",
    "average_score = sum(total_scores) / num_simulations\n",
    "print(f\"Average score over {num_simulations} games: {average_score}\")\n",
    "\n",
    "# Count the frequency of each score\n",
    "score_counts = Counter(total_scores)\n",
    "\n",
    "# Prepare data for plotting\n",
    "scores = list(score_counts.keys())\n",
    "frequencies = list(score_counts.values())\n",
    "colors = ['red' if score >= 63 else 'blue' for score in scores]\n",
    "\n",
    "# Plot the scores\n",
    "plt.bar(scores, frequencies, color=colors)\n",
    "plt.xlabel('Score')\n",
    "plt.ylabel('Times')\n",
    "plt.title(f'Scores from {num_simulations} Simulations')\n",
    "plt.show()\n",
    "\n"
   ]
  }
 ],
 "metadata": {
  "kernelspec": {
   "display_name": "Python 3",
   "language": "python",
   "name": "python3"
  },
  "language_info": {
   "codemirror_mode": {
    "name": "ipython",
    "version": 3
   },
   "file_extension": ".py",
   "mimetype": "text/x-python",
   "name": "python",
   "nbconvert_exporter": "python",
   "pygments_lexer": "ipython3",
   "version": "3.12.7"
  }
 },
 "nbformat": 4,
 "nbformat_minor": 2
}
