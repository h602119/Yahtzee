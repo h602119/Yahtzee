{
 "cells": [
  {
   "cell_type": "code",
   "execution_count": 1,
   "metadata": {},
   "outputs": [
    {
     "name": "stdout",
     "output_type": "stream",
     "text": [
      "Hello World\n"
     ]
    }
   ],
   "source": [
    "print(\"Hello World\")"
   ]
  },
  {
   "cell_type": "code",
   "execution_count": null,
   "metadata": {},
   "outputs": [],
   "source": [
    "import random\n",
    "import pandas as pd\n",
    "class YahtzeeSection:\n",
    "    def __init__(self, name, is_set, score, number):\n",
    "        self.name = name\n",
    "        self.is_set = is_set\n",
    "        self.score = score\n",
    "        self.number = number\n",
    "\n",
    "class Dice:\n",
    "    def __init__(self, value):\n",
    "        self.value = value\n",
    "        self.locked = False\n",
    "\n",
    "    def roll_unlocked_dice(self):\n",
    "        if not self.locked:\n",
    "            self.value = random.randint(1, 6)\n",
    "class Game:\n",
    "    def __init__(self):\n",
    "        self.dice = [Dice(1), Dice(2), Dice(3), Dice(4), Dice(5)]\n",
    "        self.sections = [\n",
    "            YahtzeeSection(\"Ones\", False, 0, 1),\n",
    "            YahtzeeSection(\"Twos\", False, 0, 2),\n",
    "            YahtzeeSection(\"Threes\", False, 0, 3),\n",
    "            YahtzeeSection(\"Fours\", False, 0, 4),\n",
    "            YahtzeeSection(\"Fives\", False, 0, 5),\n",
    "            YahtzeeSection(\"Sixes\", False, 0, 6),\n",
    "        ]\n",
    "        self.roll_number = 0\n",
    "        self.total_rounds = 6\n",
    "        self.total_score = 0\n",
    "\n",
    "    def roll_dice(self):\n",
    "        if self.roll_number >= 3:\n",
    "            return\n",
    "        for die in self.dice:\n",
    "            die.roll_unlocked_dice()\n",
    "        self.roll_number += 1\n",
    "\n",
    "    def lock_die(self, die_number):\n",
    "        self.dice[die_number].locked = True\n",
    "\n",
    "    def calculate_score(self):\n",
    "        for section in self.sections:\n",
    "            self.total_score += section.score\n",
    "\n",
    "    def play_round(self):\n",
    "        self.roll_number = 0\n",
    "        self.total_score = 0\n",
    "        \n",
    "\n",
    "    \n",
    "\n",
    "  \n",
    "\n",
    "\n",
    "\n",
    "    \n",
    "        "
   ]
  },
  {
   "cell_type": "code",
   "execution_count": null,
   "metadata": {},
   "outputs": [
    {
     "name": "stdout",
     "output_type": "stream",
     "text": [
      "[1, 1, 3, 6, 2]\n"
     ]
    }
   ],
   "source": [
    "\n",
    "\n",
    "\n",
    "# Generate five random integers between 1 and 6\n",
    "random_numbers = [random.randint(1, 6) for _ in range(5)]\n",
    "print(random_numbers)\n"
   ]
  }
 ],
 "metadata": {
  "kernelspec": {
   "display_name": "Python 3",
   "language": "python",
   "name": "python3"
  },
  "language_info": {
   "codemirror_mode": {
    "name": "ipython",
    "version": 3
   },
   "file_extension": ".py",
   "mimetype": "text/x-python",
   "name": "python",
   "nbconvert_exporter": "python",
   "pygments_lexer": "ipython3",
   "version": "3.12.7"
  }
 },
 "nbformat": 4,
 "nbformat_minor": 2
}
