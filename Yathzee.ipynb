{
 "cells": [
  {
   "cell_type": "code",
   "execution_count": null,
   "metadata": {},
   "outputs": [],
   "source": [
    "import random\n",
    "import pandas as pd\n",
    "import math "
   ]
  },
  {
   "cell_type": "code",
   "execution_count": 31,
   "metadata": {},
   "outputs": [
    {
     "name": "stdout",
     "output_type": "stream",
     "text": [
      "[1.0, 0]\n",
      "[0.8333, 0.1667]\n",
      "[0.6944, 0.3056]\n",
      "[0.5787, 0.4213]\n"
     ]
    }
   ],
   "source": [
    "\n",
    "def binomial_probability(n, k, p):\n",
    "    \"\"\"Calculate binomial probability of getting exactly k successes in n trials\"\"\"\n",
    "    return math.comb(n, k) * (p ** k) * ((1 - p) ** (n - k))\n",
    "\n",
    "def cumulative_probability_distribution_for_dice_set(n_turns=3, rolled_dice=1, ):\n",
    "    p = 1 / 6  # Probability of rolling a target value (e.g., \"1\")\n",
    "    \n",
    "    # Initialize the probability distribution for 0 to initial_dice ones\n",
    "    current_distribution = [0] * (rolled_dice + 1)\n",
    "    current_distribution[0] = 1.0  \n",
    "\n",
    "\n",
    "    for turn in range(n_turns):\n",
    "        next_distribution = [0] * (rolled_dice + 1)\n",
    "        \n",
    "        for current_ones in range(rolled_dice + 1):\n",
    "            remaining_dice = rolled_dice - current_ones\n",
    "            for new_ones in range(remaining_dice + 1):\n",
    "                prob_new_ones = binomial_probability(remaining_dice, new_ones, p)\n",
    "                next_distribution[current_ones + new_ones] += current_distribution[current_ones] * prob_new_ones\n",
    "        current_distribution = next_distribution\n",
    "    current_distribution = [round(prob, 4) for prob in current_distribution]\n",
    "    #for ones, prob in enumerate(current_distribution):\n",
    "     #   print(f\"Probability of getting {ones} ones: {prob}\")\n",
    "\n",
    "    return current_distribution\n",
    "\n",
    "\n",
    "\n",
    "for a in range(4):\n",
    "    probability_distribution = cumulative_probability_distribution_for_dice_set(n_turns=a)\n",
    "    print(probability_distribution)\n",
    "\n",
    "\n",
    "\n",
    "\n",
    "\n",
    "\n",
    "\n",
    "\n"
   ]
  },
  {
   "cell_type": "code",
   "execution_count": null,
   "metadata": {},
   "outputs": [],
   "source": [
    "\n",
    "class YahtzeeSection:\n",
    "    def __init__(self, name, is_set, score, number):\n",
    "        self.name = name\n",
    "        self.is_set = is_set\n",
    "        self.score = score\n",
    "        self.number = number\n",
    "\n",
    "class Game:\n",
    "    def __init__(self):\n",
    "        self.dice_set = [0, 0, 0, 0, 0]\n",
    "        self.locked_dice = [False, False, False, False, False]\n",
    "        self.sections = [\n",
    "            YahtzeeSection(\"Ones\", False, 0, 1),\n",
    "            YahtzeeSection(\"Twos\", False, 0, 2),\n",
    "            YahtzeeSection(\"Threes\", False, 0, 3),\n",
    "            YahtzeeSection(\"Fours\", False, 0, 4),\n",
    "            YahtzeeSection(\"Fives\", False, 0, 5),\n",
    "            YahtzeeSection(\"Sixes\", False, 0, 6),\n",
    "        ]\n",
    "        self.total_rounds = 6\n",
    "        self.total_score = 0\n",
    "        self.total_turns_in_a_round = 3 \n",
    "\n",
    "    def roll_all_dice(self):\n",
    "        for i in range(5):\n",
    "            self.dice_set[i] = random.randint(1, 6)\n",
    "\n",
    "\n",
    "    def calculate_score(self):\n",
    "        for section in self.sections:\n",
    "            self.total_score += section.score\n",
    "\n",
    "    def play_round(self):\n",
    "        for turn in range(self.num_turns_in_a_round):\n",
    "            remaining_turns = self.num_turns_in_a_round - turn\n",
    "            self.roll_all_dice()\n",
    "            print(\"Roll\", turn + 1)\n",
    "\n",
    "            dice_count = []\n",
    "            for dice_value in range(6):\n",
    "                \n",
    "                dice_count.append(self.dice_set.count(dice_value+1))\n",
    "\n",
    "                simulated_rolled_dice = 5 - dice_count[dice_value]\n",
    "                distibution =  cumulative_probability_distribution_for_dice_set(n_turns=turn, rolled_dice=(simulated_rolled_dice)) \n",
    "                expected_utilities = sum((([distibution] + dice_count[dice_value]) * range(simulated_rolled_dice)) * dice_value)\n",
    "               \n",
    "           \n",
    "            print(expected_utilities)\n",
    "         \n",
    "\n",
    "\n",
    "\n",
    "            for die in self.dice:\n",
    "                print(die.value)\n",
    "                #for die in dice_to_lock:\n",
    "                 #   self.lock_die(int(die) - 1)\n",
    "        #Implement choose optimal section\n",
    "\n",
    "    def play_game(self):\n",
    "        for i in range(self.total_rounds):\n",
    "            self.play_round()\n",
    "            self.calculate_score()\n",
    "            print(\"Total Score:\", self.total_score)\n",
    "\n",
    "            "
   ]
  },
  {
   "cell_type": "code",
   "execution_count": null,
   "metadata": {},
   "outputs": [
    {
     "name": "stdout",
     "output_type": "stream",
     "text": [
      "Roll 1\n",
      "4\n",
      "5\n",
      "3\n",
      "5\n",
      "4\n"
     ]
    },
    {
     "ename": "KeyboardInterrupt",
     "evalue": "Interrupted by user",
     "output_type": "error",
     "traceback": [
      "\u001b[1;31m---------------------------------------------------------------------------\u001b[0m",
      "\u001b[1;31mKeyboardInterrupt\u001b[0m                         Traceback (most recent call last)",
      "Cell \u001b[1;32mIn[4], line 2\u001b[0m\n\u001b[0;32m      1\u001b[0m game \u001b[38;5;241m=\u001b[39m Game()\n\u001b[1;32m----> 2\u001b[0m \u001b[43mgame\u001b[49m\u001b[38;5;241;43m.\u001b[39;49m\u001b[43mplay_game\u001b[49m\u001b[43m(\u001b[49m\u001b[43m)\u001b[49m\n",
      "Cell \u001b[1;32mIn[3], line 59\u001b[0m, in \u001b[0;36mGame.play_game\u001b[1;34m(self)\u001b[0m\n\u001b[0;32m     57\u001b[0m \u001b[38;5;28;01mdef\u001b[39;00m \u001b[38;5;21mplay_game\u001b[39m(\u001b[38;5;28mself\u001b[39m):\n\u001b[0;32m     58\u001b[0m     \u001b[38;5;28;01mfor\u001b[39;00m i \u001b[38;5;129;01min\u001b[39;00m \u001b[38;5;28mrange\u001b[39m(\u001b[38;5;28mself\u001b[39m\u001b[38;5;241m.\u001b[39mtotal_rounds):\n\u001b[1;32m---> 59\u001b[0m         \u001b[38;5;28;43mself\u001b[39;49m\u001b[38;5;241;43m.\u001b[39;49m\u001b[43mplay_round\u001b[49m\u001b[43m(\u001b[49m\u001b[43m)\u001b[49m\n\u001b[0;32m     60\u001b[0m         \u001b[38;5;28mself\u001b[39m\u001b[38;5;241m.\u001b[39mcalculate_score()\n\u001b[0;32m     61\u001b[0m         \u001b[38;5;28mprint\u001b[39m(\u001b[38;5;124m\"\u001b[39m\u001b[38;5;124mTotal Score:\u001b[39m\u001b[38;5;124m\"\u001b[39m, \u001b[38;5;28mself\u001b[39m\u001b[38;5;241m.\u001b[39mtotal_score)\n",
      "Cell \u001b[1;32mIn[3], line 50\u001b[0m, in \u001b[0;36mGame.play_round\u001b[1;34m(self)\u001b[0m\n\u001b[0;32m     48\u001b[0m     \u001b[38;5;28mprint\u001b[39m(die\u001b[38;5;241m.\u001b[39mvalue)\n\u001b[0;32m     49\u001b[0m \u001b[38;5;28;01mif\u001b[39;00m i \u001b[38;5;241m<\u001b[39m \u001b[38;5;241m2\u001b[39m:\n\u001b[1;32m---> 50\u001b[0m     response \u001b[38;5;241m=\u001b[39m \u001b[38;5;28;43minput\u001b[39;49m\u001b[43m(\u001b[49m\u001b[38;5;124;43m\"\u001b[39;49m\u001b[38;5;124;43mWhich dice would you like to lock? (Enter the numbers separated by a space)\u001b[39;49m\u001b[38;5;124;43m\"\u001b[39;49m\u001b[43m)\u001b[49m\n\u001b[0;32m     51\u001b[0m     dice_to_lock \u001b[38;5;241m=\u001b[39m response\u001b[38;5;241m.\u001b[39mreplace(\u001b[38;5;124m'\u001b[39m\u001b[38;5;124m,\u001b[39m\u001b[38;5;124m'\u001b[39m, \u001b[38;5;124m'\u001b[39m\u001b[38;5;124m \u001b[39m\u001b[38;5;124m'\u001b[39m)\u001b[38;5;241m.\u001b[39msplit()\n\u001b[0;32m     52\u001b[0m     \u001b[38;5;28mprint\u001b[39m(dice_to_lock)\n",
      "File \u001b[1;32m~\\AppData\\Local\\Packages\\PythonSoftwareFoundation.Python.3.12_qbz5n2kfra8p0\\LocalCache\\local-packages\\Python312\\site-packages\\ipykernel\\kernelbase.py:1270\u001b[0m, in \u001b[0;36mKernel.raw_input\u001b[1;34m(self, prompt)\u001b[0m\n\u001b[0;32m   1268\u001b[0m     msg \u001b[38;5;241m=\u001b[39m \u001b[38;5;124m\"\u001b[39m\u001b[38;5;124mraw_input was called, but this frontend does not support input requests.\u001b[39m\u001b[38;5;124m\"\u001b[39m\n\u001b[0;32m   1269\u001b[0m     \u001b[38;5;28;01mraise\u001b[39;00m StdinNotImplementedError(msg)\n\u001b[1;32m-> 1270\u001b[0m \u001b[38;5;28;01mreturn\u001b[39;00m \u001b[38;5;28;43mself\u001b[39;49m\u001b[38;5;241;43m.\u001b[39;49m\u001b[43m_input_request\u001b[49m\u001b[43m(\u001b[49m\n\u001b[0;32m   1271\u001b[0m \u001b[43m    \u001b[49m\u001b[38;5;28;43mstr\u001b[39;49m\u001b[43m(\u001b[49m\u001b[43mprompt\u001b[49m\u001b[43m)\u001b[49m\u001b[43m,\u001b[49m\n\u001b[0;32m   1272\u001b[0m \u001b[43m    \u001b[49m\u001b[38;5;28;43mself\u001b[39;49m\u001b[38;5;241;43m.\u001b[39;49m\u001b[43m_parent_ident\u001b[49m\u001b[43m[\u001b[49m\u001b[38;5;124;43m\"\u001b[39;49m\u001b[38;5;124;43mshell\u001b[39;49m\u001b[38;5;124;43m\"\u001b[39;49m\u001b[43m]\u001b[49m\u001b[43m,\u001b[49m\n\u001b[0;32m   1273\u001b[0m \u001b[43m    \u001b[49m\u001b[38;5;28;43mself\u001b[39;49m\u001b[38;5;241;43m.\u001b[39;49m\u001b[43mget_parent\u001b[49m\u001b[43m(\u001b[49m\u001b[38;5;124;43m\"\u001b[39;49m\u001b[38;5;124;43mshell\u001b[39;49m\u001b[38;5;124;43m\"\u001b[39;49m\u001b[43m)\u001b[49m\u001b[43m,\u001b[49m\n\u001b[0;32m   1274\u001b[0m \u001b[43m    \u001b[49m\u001b[43mpassword\u001b[49m\u001b[38;5;241;43m=\u001b[39;49m\u001b[38;5;28;43;01mFalse\u001b[39;49;00m\u001b[43m,\u001b[49m\n\u001b[0;32m   1275\u001b[0m \u001b[43m\u001b[49m\u001b[43m)\u001b[49m\n",
      "File \u001b[1;32m~\\AppData\\Local\\Packages\\PythonSoftwareFoundation.Python.3.12_qbz5n2kfra8p0\\LocalCache\\local-packages\\Python312\\site-packages\\ipykernel\\kernelbase.py:1313\u001b[0m, in \u001b[0;36mKernel._input_request\u001b[1;34m(self, prompt, ident, parent, password)\u001b[0m\n\u001b[0;32m   1310\u001b[0m \u001b[38;5;28;01mexcept\u001b[39;00m \u001b[38;5;167;01mKeyboardInterrupt\u001b[39;00m:\n\u001b[0;32m   1311\u001b[0m     \u001b[38;5;66;03m# re-raise KeyboardInterrupt, to truncate traceback\u001b[39;00m\n\u001b[0;32m   1312\u001b[0m     msg \u001b[38;5;241m=\u001b[39m \u001b[38;5;124m\"\u001b[39m\u001b[38;5;124mInterrupted by user\u001b[39m\u001b[38;5;124m\"\u001b[39m\n\u001b[1;32m-> 1313\u001b[0m     \u001b[38;5;28;01mraise\u001b[39;00m \u001b[38;5;167;01mKeyboardInterrupt\u001b[39;00m(msg) \u001b[38;5;28;01mfrom\u001b[39;00m \u001b[38;5;28;01mNone\u001b[39;00m\n\u001b[0;32m   1314\u001b[0m \u001b[38;5;28;01mexcept\u001b[39;00m \u001b[38;5;167;01mException\u001b[39;00m:\n\u001b[0;32m   1315\u001b[0m     \u001b[38;5;28mself\u001b[39m\u001b[38;5;241m.\u001b[39mlog\u001b[38;5;241m.\u001b[39mwarning(\u001b[38;5;124m\"\u001b[39m\u001b[38;5;124mInvalid Message:\u001b[39m\u001b[38;5;124m\"\u001b[39m, exc_info\u001b[38;5;241m=\u001b[39m\u001b[38;5;28;01mTrue\u001b[39;00m)\n",
      "\u001b[1;31mKeyboardInterrupt\u001b[0m: Interrupted by user"
     ]
    },
    {
     "ename": "",
     "evalue": "",
     "output_type": "error",
     "traceback": [
      "\u001b[1;31mThe Kernel crashed while executing code in the current cell or a previous cell. \n",
      "\u001b[1;31mPlease review the code in the cell(s) to identify a possible cause of the failure. \n",
      "\u001b[1;31mClick <a href='https://aka.ms/vscodeJupyterKernelCrash'>here</a> for more info. \n",
      "\u001b[1;31mView Jupyter <a href='command:jupyter.viewOutput'>log</a> for further details."
     ]
    }
   ],
   "source": [
    "game = Game()\n",
    "game.play_game()"
   ]
  }
 ],
 "metadata": {
  "kernelspec": {
   "display_name": "Python 3",
   "language": "python",
   "name": "python3"
  },
  "language_info": {
   "codemirror_mode": {
    "name": "ipython",
    "version": 3
   },
   "file_extension": ".py",
   "mimetype": "text/x-python",
   "name": "python",
   "nbconvert_exporter": "python",
   "pygments_lexer": "ipython3",
   "version": "3.12.7"
  }
 },
 "nbformat": 4,
 "nbformat_minor": 2
}
