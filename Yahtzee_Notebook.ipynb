{
 "cells": [
  {
   "cell_type": "code",
   "execution_count": 1,
   "metadata": {},
   "outputs": [],
   "source": [
    "# Imports for the project\n",
    "import random\n",
    "import matplotlib.pyplot as plt\n",
    "import math\n",
    "from collections import Counter"
   ]
  },
  {
   "cell_type": "markdown",
   "metadata": {},
   "source": [
    "# ADA511 Course Project: Yahtzee\n",
    "By: Ole A. Solem & Henrik Vallestad\n",
    "\n",
    "* We have limited our project to only the **first part of Yahtzee**, where the goal is to get as many of each kind **[1, 2, 3, 4, 5, 6]** and then sum them.\n",
    "* If the **sum** of [1s, 2s, 3s, 4s, 5s, 6s] is 63, the agent gets a **bonus of 50 points**. \n",
    "* Also if the agent gets 5 of a kind, **Yahtzee**, it gets 50 points (which **do not** count on the 63-bonus, but it adds to the total score)\n",
    "* We run **400 000** games for each scenario, this will give us enough data to accuratly compare them.\n",
    "\n",
    "We have programmed four different scenarios:\n",
    "\n",
    "1. **Greedy Algorithm**: Always keeps the highest value.\n",
    "2. **Strategy with Three of a Kind**: Incorporates a strategy where we try to always get three of a kind and use probability inference to decide whether to keep multiple or discard.\n",
    "3. **Probability Inference on Scenarios**: Performs probability inference on possible scenarios of [Keep or discard] for all the dice, and always uses the one that yields the highest probability.\n",
    "4. **Probability Distribution and Utility Calculation**: Calculates the probability distribution for each of the dice sides, then multiplies the probabilities with its corresponding dice to get the corresponding utility. The algorithm then picks the one that yields the highest utility."
   ]
  },
  {
   "cell_type": "markdown",
   "metadata": {},
   "source": [
    "\n",
    "### Scenario 1: Greedy Algorithm\n",
    "\n",
    "Now we implement our first scenario then collect some data to measure some sort of benchmark.\n",
    "This code mainly consists of two parts:\n",
    "- Find the most frequent number : `find_most_frequent_available_number()`\n",
    "- Roll the dice we do not wish to keep : `roll_with_keep()`\n",
    "- Then we have `oneRound()` which plays out one round of the game: initial roll, find frequent, reroll, frequent, reroll, frequent. The last logic returns our smallest available number in case we try to return something that isn't legal.\n",
    "- Then we run an entire game, until we have filled all slots."
   ]
  },
  {
   "cell_type": "code",
   "execution_count": 2,
   "metadata": {},
   "outputs": [],
   "source": [
    "def find_most_frequent_available_number(dice, available):\n",
    "    counter = Counter(dice)\n",
    "    most_common = counter.most_common()\n",
    "    most_common.sort(key=lambda x: (-x[1], -x[0]))\n",
    "    \n",
    "    for num, freq in most_common:\n",
    "        if num in available:\n",
    "            return num\n",
    "    return 0  # Return None if no available number is found\n",
    "\n",
    "\n",
    "def roll_with_keep(dice, keep):\n",
    "    new_dice = [d if d == keep else random.randint(1, 6) for d in dice]\n",
    "    return new_dice\n",
    "\n",
    "\n",
    "def oneRound(available):\n",
    "    # Initial roll\n",
    "    dice = roll_with_keep([1,2,3,4,5], 0)\n",
    "    keep = find_most_frequent_available_number(dice, available)\n",
    "    # Second roll\n",
    "    dice = roll_with_keep(dice, keep)\n",
    "    keep = find_most_frequent_available_number(dice, available)\n",
    "    # Last roll\n",
    "    dice = roll_with_keep(dice, keep)\n",
    "    keep = find_most_frequent_available_number(dice, available)\n",
    "\n",
    "    if keep == 0:\n",
    "        keep= available[0]\n",
    "\n",
    "    return dice, keep"
   ]
  },
  {
   "cell_type": "code",
   "execution_count": 3,
   "metadata": {},
   "outputs": [],
   "source": [
    "#Run time with repeat=400000 : ~ 15 sec\n",
    "repeat = 400000\n",
    "round_one_score = 0\n",
    "game_score = 0\n",
    "games_score = {}\n",
    "times_yahtzee = 0\n",
    "times_yahtzee_and_63 = 0\n",
    "\n",
    "# Game Simulation\n",
    "for _ in range(repeat):\n",
    "    available = [1, 2, 3, 4, 5, 6]\n",
    "    score = 0\n",
    "    yahtzee = False\n",
    "    while(len(available) > 0):\n",
    "        dice, keep = oneRound(available)\n",
    "        s = dice.count(keep)*keep\n",
    "        if(dice.count(keep) == 5) and not yahtzee:\n",
    "            yahtzee = True\n",
    "            game_score += 50\n",
    "            times_yahtzee += 1\n",
    "        else:\n",
    "            available.remove(keep)\n",
    "            score += s\n",
    "    round_one_score += score\n",
    "    game_score += score\n",
    "    \n",
    "    if (yahtzee) and (score >= 63):\n",
    "        times_yahtzee_and_63 += 1\n",
    "\n",
    "    if score not in games_score:\n",
    "        games_score[score] = 1\n",
    "    else:\n",
    "        games_score[score] += 1\n"
   ]
  },
  {
   "cell_type": "code",
   "execution_count": 4,
   "metadata": {},
   "outputs": [
    {
     "name": "stdout",
     "output_type": "stream",
     "text": [
      "AVG score after 400000 games : 56.373735\n",
      "Times player got yahtzee : 69626\n",
      "Times player got yahtzee and over 63 : 17825\n",
      "\n",
      "Percentage of games :: Score over 63 : 22.0%\n",
      "percentage of games :: yahtzee : 17.4%\n",
      "percentage of games :: yahtzee and score over 63 : 4.5%\n"
     ]
    },
    {
     "data": {
      "image/png": "[encoded data removed]",
      "text/plain": [
       "<Figure size 640x480 with 1 Axes>"
      ]
     },
     "metadata": {},
     "output_type": "display_data"
    }
   ],
   "source": [
    "# Benchmark from our programmed inference and decision\n",
    "\n",
    "print(f\"AVG score after {repeat} games : {round_one_score/repeat}\")\n",
    "print(f\"Times player got yahtzee : {times_yahtzee}\")\n",
    "print(f\"Times player got yahtzee and over 63 : {times_yahtzee_and_63}\")\n",
    "print(\"\")\n",
    "\n",
    "Ysum = 0\n",
    "for key, value in games_score.items():\n",
    "    if key >= 63:\n",
    "        Ysum += value\n",
    "\n",
    "print(f\"Percentage of games :: Score over 63 : {round((Ysum/repeat),2)*100}%\")\n",
    "print(f\"percentage of games :: yahtzee : {round((times_yahtzee/repeat),3)*100}%\")\n",
    "print(f\"percentage of games :: yahtzee and score over 63 : {round((times_yahtzee_and_63/repeat),3)*100}%\")\n",
    "# Plotting the scores from games_score\n",
    "colors = ['red' if score >= 63 else 'blue' for score in games_score.keys()]\n",
    "plt.bar(games_score.keys(), games_score.values(), color=colors)\n",
    "plt.xlabel('Score')\n",
    "plt.ylabel('Times')\n",
    "plt.title(f'Scores from {repeat} Simulations')\n",
    "plt.show()"
   ]
  },
  {
   "cell_type": "markdown",
   "metadata": {},
   "source": [
    "### Scenario 2: Strategy with Three of a Kind\n",
    "\n",
    "The thought behind this is that in order to get the **63-bonus of 50 points**, we want to get an **average of three dice on each kind**.\n",
    "\n",
    "* We start out with an initial inference on the dice to get the probabilities of \"three of a kind\" and \"probability of Yahtzee\". \n",
    "* In our inference we also give a huge bonus for dice that is 3 or above, since they already are 3x\n",
    "* However, we penalize the number 1 because in the end it doesn't really contribute all that much to the final score.\n",
    "* For example if we roll 1,1,1,6,6 : then 6,6 is higher rated\n",
    "\n",
    "Then we do a `KeepDiceDecision()` which gives us the number of different dice we should keep. It does this by doing an inference on the different probabilities when keeping multiple dice `keepMultipleInference()`. We do this until we reach our final decision, `endTurnDecision()`, where we do a greedy inference if we didn't get a clear decision. Also, if we decided to keep 4, 5, or 6 but we didn't have three of them, we can set our 1-spot to zero instead of wasting our \"good spots\" on a bad score. This can only be done once.\n"
   ]
  }
 ],
 "metadata": {
  "kernelspec": {
   "display_name": "Python 3",
   "language": "python",
   "name": "python3"
  },
  "language_info": {
   "codemirror_mode": {
    "name": "ipython",
    "version": 3
   },
   "file_extension": ".py",
   "mimetype": "text/x-python",
   "name": "python",
   "nbconvert_exporter": "python",
   "pygments_lexer": "ipython3",
   "version": "3.13.0"
  }
 },
 "nbformat": 4,
 "nbformat_minor": 2
}
