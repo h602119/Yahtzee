{
 "cells": [
  {
   "cell_type": "code",
   "execution_count": 67,
   "metadata": {},
   "outputs": [],
   "source": [
    "# Imports for the project\n",
    "import random\n",
    "import matplotlib.pyplot as plt\n",
    "import math\n",
    "from math import comb\n",
    "from collections import Counter"
   ]
  },
  {
   "cell_type": "markdown",
   "metadata": {},
   "source": [
    "# ADA511 Course Project: Yahtzee\n",
    "By: Ole A. Solem & Henrik Vallestad\n",
    "\n",
    "* We have limited our project to only the **first part of Yahtzee**, where the goal is to get as many of each kind **[1, 2, 3, 4, 5, 6]** and then sum them.\n",
    "* If the **sum** of [1s, 2s, 3s, 4s, 5s, 6s] is 63, the agent gets a **bonus of 50 points**. \n",
    "* Also if the agent gets 5 of a kind, **Yahtzee**, it gets 50 points (which **do not** count on the 63-bonus, but it adds to the total score)\n",
    "* We run **400 000** games for each scenario, this will give us enough data to accuratly compare them.\n",
    "\n",
    "We have programmed four different scenarios:\n",
    "\n",
    "1. **Greedy Algorithm**: Always keeps the highest value.\n",
    "2. **Strategy with Three of a Kind**: Incorporates a strategy where we try to always get three of a kind and use probability inference to decide whether to keep multiple or discard.\n",
    "3. **Probability Inference on Scenarios**: Performs probability inference on possible scenarios of [Keep or discard] for all the dice, and always uses the one that yields the highest probability.\n",
    "4. **Probability Distribution and Utility Calculation**: Calculates the probability distribution for each of the dice sides, then multiplies the probabilities with its corresponding dice to get the corresponding utility. The algorithm then picks the one that yields the highest utility."
   ]
  },
  {
   "cell_type": "markdown",
   "metadata": {},
   "source": [
    "\n",
    "### Scenario 1: Greedy Algorithm\n",
    "\n",
    "Now we implement our first scenario then collect some data to measure some sort of benchmark.\n",
    "This code mainly consists of two parts:\n",
    "- Find the most frequent number : `find_most_frequent_available_number()`\n",
    "- Roll the dice we do not wish to keep : `roll_with_keep()`\n",
    "- Then we have `oneRound()` which plays out one round of the game: initial roll, find frequent, reroll, frequent, reroll, frequent. The last logic returns our smallest available number in case we try to return something that isn't legal.\n",
    "- Then we run an entire game, until we have filled all slots."
   ]
  },
  {
   "cell_type": "code",
   "execution_count": 68,
   "metadata": {},
   "outputs": [],
   "source": [
    "def find_most_frequent_available_number(dice, available):\n",
    "    counter = Counter(dice)\n",
    "    most_common = counter.most_common()\n",
    "    most_common.sort(key=lambda x: (-x[1], -x[0]))\n",
    "    \n",
    "    for num, freq in most_common:\n",
    "        if num in available:\n",
    "            return num\n",
    "    return 0  # Return None if no available number is found\n",
    "\n",
    "\n",
    "def roll_with_keep(dice, keep):\n",
    "    new_dice = [d if d == keep else random.randint(1, 6) for d in dice]\n",
    "    return new_dice\n",
    "\n",
    "\n",
    "def oneRound(available):\n",
    "    # Initial roll\n",
    "    dice = roll_with_keep([1,2,3,4,5], 0)\n",
    "    keep = find_most_frequent_available_number(dice, available)\n",
    "    # Second roll\n",
    "    dice = roll_with_keep(dice, keep)\n",
    "    keep = find_most_frequent_available_number(dice, available)\n",
    "    # Last roll\n",
    "    dice = roll_with_keep(dice, keep)\n",
    "    keep = find_most_frequent_available_number(dice, available)\n",
    "\n",
    "    if keep == 0:\n",
    "        keep= available[0]\n",
    "\n",
    "    return dice, keep"
   ]
  },
  {
   "cell_type": "code",
   "execution_count": null,
   "metadata": {},
   "outputs": [],
   "source": [
    "#Run time with repeat=400000 : ~ 15 sec\n",
    "repeat = 400000\n",
    "round_one_score = 0\n",
    "game_score = 0\n",
    "games_score = {}\n",
    "times_yahtzee = 0\n",
    "times_yahtzee_and_63 = 0\n",
    "\n",
    "# Game Simulation\n",
    "for _ in range(repeat):\n",
    "    available = [1, 2, 3, 4, 5, 6]\n",
    "    score = 0\n",
    "    yahtzee = False\n",
    "    while(len(available) > 0):\n",
    "        dice, keep = oneRound(available)\n",
    "        s = dice.count(keep)*keep\n",
    "        if(dice.count(keep) == 5) and not yahtzee:\n",
    "            yahtzee = True\n",
    "            game_score += 50\n",
    "            times_yahtzee += 1\n",
    "        else:\n",
    "            available.remove(keep)\n",
    "            score += s\n",
    "    round_one_score += score\n",
    "    game_score += score\n",
    "    \n",
    "    if (yahtzee) and (score >= 63):\n",
    "        times_yahtzee_and_63 += 1\n",
    "\n",
    "    if score not in games_score:\n",
    "        games_score[score] = 1\n",
    "    else:\n",
    "        games_score[score] += 1\n"
   ]
  },
  {
   "cell_type": "code",
   "execution_count": null,
   "metadata": {},
   "outputs": [
    {
     "name": "stdout",
     "output_type": "stream",
     "text": [
      "AVG score after 400000 games : 56.3887125\n",
      "Times player got yahtzee : 69378\n",
      "Times player got yahtzee and over 63 : 17665\n",
      "\n",
      "Percentage of games :: Score over 63 : 22.0%\n",
      "percentage of games :: yahtzee : 17.299999999999997%\n",
      "percentage of games :: yahtzee and score over 63 : 4.3999999999999995%\n"
     ]
    },
    {
     "data": {
      "image/png": "[encoded data removed]",
      "text/plain": [
       "<Figure size 640x480 with 1 Axes>"
      ]
     },
     "metadata": {},
     "output_type": "display_data"
    }
   ],
   "source": [
    "# Benchmark from our programmed inference and decision\n",
    "\n",
    "print(f\"AVG score after {repeat} games : {round_one_score/repeat}\")\n",
    "print(f\"Times player got yahtzee : {times_yahtzee}\")\n",
    "print(f\"Times player got yahtzee and over 63 : {times_yahtzee_and_63}\")\n",
    "print(\"\")\n",
    "\n",
    "Ysum = 0\n",
    "for key, value in games_score.items():\n",
    "    if key >= 63:\n",
    "        Ysum += value\n",
    "\n",
    "print(f\"Percentage of games :: Score over 63 : {round((Ysum/repeat),2)*100}%\")\n",
    "print(f\"percentage of games :: yahtzee : {round((times_yahtzee/repeat),3)*100}%\")\n",
    "print(f\"percentage of games :: yahtzee and score over 63 : {round((times_yahtzee_and_63/repeat),3)*100}%\")\n",
    "# Plotting the scores from games_score\n",
    "colors = ['red' if score >= 63 else 'blue' for score in games_score.keys()]\n",
    "plt.bar(games_score.keys(), games_score.values(), color=colors)\n",
    "plt.xlabel('Score')\n",
    "plt.ylabel('Times')\n",
    "plt.title(f'Scores from {repeat} Simulations')\n",
    "plt.show()"
   ]
  },
  {
   "cell_type": "markdown",
   "metadata": {},
   "source": [
    "### Scenario 2: Strategy with Three of a Kind\n",
    "\n",
    "The thought behind this is that in order to get the **63-bonus of 50 points**, we want to get an **average of three dice on each kind**.\n",
    "\n",
    "* We start out with an initial inference on the dice to get the probabilities of \"three of a kind\" and \"probability of Yahtzee\". \n",
    "* In our inference we also give a huge bonus for dice that is 3 or above, since they already are 3x\n",
    "* However, we penalize the number 1 because in the end it doesn't really contribute all that much to the final score.\n",
    "* For example if we roll 1,1,1,6,6 : then 6,6 is higher rated\n",
    "\n",
    "Then we do a `KeepDiceDecision()` which gives us the number of different dice we should keep. It does this by doing an inference on the different probabilities when keeping multiple dice `keepMultipleInference()`. We do this until we reach our final decision, `endTurnDecision()`, where we do a greedy inference if we didn't get a clear decision. Also, if we decided to keep 4, 5, or 6 but we didn't have three of them, we can set our 1-spot to zero instead of wasting our \"good spots\" on a bad score. This can only be done once.\n"
   ]
  },
  {
   "cell_type": "markdown",
   "metadata": {},
   "source": [
    "### Scenario 4: Probability Distribution and Utility Calculation\n",
    "This implementation calculates the probability distribution for each of the dice sides, multiplies the probabilities by their corresponding dice values, and sums them up to get the dice utility. The algorithm then selects the option that provides the highest utility.\n",
    "- The function cumulative_probability_distribution_for_dice_set calculates the probability distribution of getting 0 to N of any type of dice side, given the remaining number of turns and the number of dice rolled.\n",
    "- The algorithm utilizes this by keeping the dice that yield the highest local utility and rerolling the ones that do not.\n",
    "- In the final part of the algorithm, the section that gives the highest score is selected.\n",
    "- The following example illustrates a simulation of the first turn in a game:\n",
    "<br>\n",
    "Dice values after first roll:       [5, 2, 5, 3, 6]\n",
    "<br>\n",
    "Number of dice for each side:       [0, 1, 1, 0, 2, 1]\n",
    "<br>\n",
    "Expected_utilities for each dice:   [2.11, 5.37, 8.06, 8.42, 16.31, 16.11]\n",
    "<br>\n",
    "Kept_dice: 5\n",
    "\n"
   ]
  },
  {
   "cell_type": "code",
   "execution_count": null,
   "metadata": {},
   "outputs": [],
   "source": [
    "\n",
    "\n",
    "def binomial_probability(n, k, p):\n",
    "    \"\"\"Calculate binomial probability of getting exactly k successes in n trials\"\"\"\n",
    "    return math.comb(n, k) * (p ** k) * ((1 - p) ** (n - k))\n",
    "\n",
    "def cumulative_probability_distribution_for_dice_set(n_turns=3, rolled_dice=1, ):\n",
    "    p = 1 / 6 \n",
    "    \n",
    "   \n",
    "    current_distribution = [0] * (rolled_dice + 1)\n",
    "    current_distribution[0] = 1.0  \n",
    "    for turn in range(n_turns):\n",
    "        next_distribution = [0] * (rolled_dice + 1)\n",
    "        \n",
    "        for current_ones in range(rolled_dice + 1):\n",
    "            remaining_dice = rolled_dice - current_ones\n",
    "\n",
    "            for new_ones in range(remaining_dice + 1):\n",
    "                prob_new_ones = binomial_probability(remaining_dice, new_ones, p)\n",
    "                next_distribution[current_ones + new_ones] += current_distribution[current_ones] * prob_new_ones\n",
    "                \n",
    "        current_distribution = next_distribution\n",
    "    current_distribution = [round(prob, 4) for prob in current_distribution]\n",
    "\n",
    "    return current_distribution"
   ]
  },
  {
   "cell_type": "code",
   "execution_count": null,
   "metadata": {},
   "outputs": [],
   "source": [
    "\n",
    "import random\n",
    "import pandas as pd\n",
    "import math "
   ]
  },
  {
   "cell_type": "code",
   "execution_count": null,
   "metadata": {},
   "outputs": [],
   "source": [
    "\n",
    "class YahtzeeSection:\n",
    "    def __init__(self, name, is_set, score, number):\n",
    "        self.name = name\n",
    "        self.is_set = is_set\n",
    "        self.score = score\n",
    "        self.number = number\n",
    "\n",
    "class Game:\n",
    "    def __init__(self):\n",
    "        self.dice_set = [0, 0, 0, 0, 0]\n",
    "        self.locked_dice = [False, False, False, False, False]\n",
    "        self.sections = [\n",
    "            YahtzeeSection(\"Ones\", False, 0, 1),\n",
    "            YahtzeeSection(\"Twos\", False, 0, 2),\n",
    "            YahtzeeSection(\"Threes\", False, 0, 3),\n",
    "            YahtzeeSection(\"Fours\", False, 0, 4),\n",
    "            YahtzeeSection(\"Fives\", False, 0, 5),\n",
    "            YahtzeeSection(\"Sixes\", False, 0, 6),\n",
    "        ]\n",
    "        self.total_rounds = 6\n",
    "        self.total_score = 0\n",
    "        self.total_turns_in_a_round = 3 \n",
    "\n",
    "    def roll_all_dice(self):\n",
    "        for i in range(5):\n",
    "            if self.locked_dice[i] == False:\n",
    "                self.dice_set[i] = random.randint(1, 6)\n",
    "\n",
    "\n",
    "    def calculate_score(self):\n",
    "        for section in self.sections:\n",
    "            self.total_score += section.score\n",
    "\n",
    "    def make_decision_greedy(self, expected_utilities, turn):\n",
    "        for section in self.sections:\n",
    "            if section.is_set == True:\n",
    "                expected_utilities[section.number - 1] = 0\n",
    "        \n",
    "        max_utility = max(expected_utilities)\n",
    "        max_utility_index = expected_utilities.index(max_utility)\n",
    "        \n",
    "        return max_utility_index\n",
    "       \n",
    "     \n",
    "\n",
    "\n",
    "    def play_round(self):\n",
    "        remaining_turns = self.total_turns_in_a_round \n",
    "        for turn in range(self.total_turns_in_a_round):\n",
    "            remaining_turns = remaining_turns - turn\n",
    "            \n",
    "            self.roll_all_dice()\n",
    "            \n",
    "          \n",
    "            dice_count = []\n",
    "            expected_utilities = []\n",
    "\n",
    "            for dice_value in range(6):\n",
    "                dice_count.append(self.dice_set.count(dice_value + 1))\n",
    "\n",
    "                simulated_rolled_dice = 5 - dice_count[dice_value]\n",
    "                distribution = cumulative_probability_distribution_for_dice_set(n_turns=self.total_turns_in_a_round - turn, rolled_dice=simulated_rolled_dice)\n",
    "                \n",
    "\n",
    "                expected_utility = 0\n",
    "                for k, prob in enumerate(distribution):\n",
    "                    expected_utility += (k + dice_count[dice_value]) * prob * (dice_value + 1)\n",
    "\n",
    "                \n",
    "                expected_utilities.append(expected_utility)\n",
    "            \n",
    "            kept_dice = self.make_decision_greedy(expected_utilities, turn) + 1\n",
    "            \n",
    "            \n",
    "            \n",
    "            for i in range(len(self.dice_set)):\n",
    "                if self.dice_set[i] == kept_dice:\n",
    "                    self.locked_dice[i] = True\n",
    "                else:\n",
    "                    self.locked_dice[i] = False\n",
    " \n",
    "\n",
    "        products = []\n",
    "        for i in range (6):\n",
    "          \n",
    "            prod = dice_count[i] * (i + 1)\n",
    "            if self.sections[i].is_set == True:\n",
    "                prod = 0\n",
    "            products.append(prod) \n",
    "\n",
    "\n",
    "         \n",
    "\n",
    "        maximum = max(products)\n",
    "        maximum_index = products.index(maximum)\n",
    "        self.sections[maximum_index].is_set = True\n",
    "        self.sections[maximum_index].score = maximum\n",
    "     \n",
    "\n",
    "\n",
    "    def play_game(self):\n",
    "        for i in range(self.total_rounds):\n",
    "            self.play_round()\n",
    "        self.calculate_score()\n",
    "   \n",
    "\n",
    "            "
   ]
  },
  {
   "cell_type": "code",
   "execution_count": null,
   "metadata": {},
   "outputs": [
    {
     "name": "stdout",
     "output_type": "stream",
     "text": [
      "Average score over 40000 games: 49.522225\n",
      "Ones: 3\n",
      "Twos: 6\n",
      "Threes: 12\n",
      "Fours: 8\n",
      "Fives: 10\n",
      "Sixes: 18\n"
     ]
    }
   ],
   "source": [
    "# Simulation\n",
    "num_simulations = 40000\n",
    "total_scores = []\n",
    "num_yahztees = 0\n",
    "for _ in range(num_simulations):\n",
    "    game = Game()\n",
    "    game.play_game()\n",
    "    total_scores.append(game.total_score)\n",
    "    for section in game.sections:\n",
    "        if section.score/5 == 1:\n",
    "            num_yahztees += 1\n",
    "\n",
    "# Analyze results\n",
    "average_score = sum(total_scores) / num_simulations\n",
    "print(f\"Average score over {num_simulations} games: {average_score}\")\n",
    "\n",
    "for section in game.sections:\n",
    "    print(f\"{section.name}: {section.score}\")\n"
   ]
  },
  {
   "cell_type": "code",
   "execution_count": null,
   "metadata": {},
   "outputs": [
    {
     "name": "stdout",
     "output_type": "stream",
     "text": [
      "Percentage of games with Yahtzee: 15.2%\n",
      "Num yahtzee 6080\n"
     ]
    }
   ],
   "source": [
    "print(f\"Percentage of games with Yahtzee: {num_yahztees / num_simulations * 100}%\")\n",
    "print(f\"Num yahtzee {num_yahztees}\")"
   ]
  },
  {
   "cell_type": "code",
   "execution_count": null,
   "metadata": {},
   "outputs": [
    {
     "name": "stdout",
     "output_type": "stream",
     "text": [
      "Average score over 40000 games: 49.522225\n"
     ]
    },
    {
     "data": {
      "image/png": "[encoded data removed]",
      "text/plain": [
       "<Figure size 640x480 with 1 Axes>"
      ]
     },
     "metadata": {},
     "output_type": "display_data"
    },
    {
     "name": "stdout",
     "output_type": "stream",
     "text": [
      "Percentage of games :: Score over 63 : 6.0%\n",
      "percentage of games :: yahtzee : 15.2%\n"
     ]
    }
   ],
   "source": [
    "import matplotlib.pyplot as plt\n",
    "from collections import Counter\n",
    "\n",
    "\n",
    "\n",
    "average_score = sum(total_scores) / num_simulations\n",
    "print(f\"Average score over {num_simulations} games: {average_score}\")\n",
    "\n",
    "\n",
    "score_counts = Counter(total_scores)\n",
    "larger_than_63 = [score for score in total_scores if score >= 63]\n",
    "percentage_larger_than_63 = len(larger_than_63) / num_simulations * 100\n",
    "\n",
    "scores = list(score_counts.keys())\n",
    "frequencies = list(score_counts.values())\n",
    "colors = ['red' if score >= 63 else 'blue' for score in scores]\n",
    "\n",
    "\n",
    "plt.bar(scores, frequencies, color=colors)\n",
    "plt.xlabel('Score')\n",
    "plt.ylabel('Times')\n",
    "plt.title(f'Scores from {num_simulations} Simulations')\n",
    "plt.show()\n",
    "\n",
    "print(f\"Percentage of games :: Score over 63 : {round( len((larger_than_63 ))/num_simulations ,2)*100}%\")\n",
    "print(f\"percentage of games :: yahtzee : {round((num_yahztees/num_simulations),3)*100}%\")\n",
    "\n",
    "\n"
   ]
  },
  {
   "cell_type": "markdown",
   "metadata": {},
   "source": [
    "### Comparisons of the algorithms "
   ]
  },
  {
   "cell_type": "code",
   "execution_count": null,
   "metadata": {},
   "outputs": [
    {
     "name": "stdout",
     "output_type": "stream",
     "text": [
      "AVG score Greedy:   56.3887125\n",
      "Probability Distribution and Utility: 49.522225\n",
      "Times player got yahtzee greedy: 69378\n",
      "Times player got yahtzee Probability Distribution and Utility Calculation: 6080\n",
      "Times player got over 63 points Greedy: 22.0\n",
      "Times player got over 63 points Probability Distribution and Utility Calculation: 6.1075\n"
     ]
    }
   ],
   "source": [
    "# Benchmark from our programmed inference and decision\n",
    "\n",
    "print(f\"AVG score Greedy:   {round_one_score/repeat}\\nProbability Distribution and Utility: {average_score}\")\n",
    "print(f\"Times player got yahtzee greedy: {times_yahtzee}\\nTimes player got yahtzee Probability Distribution and Utility Calculation: {num_yahztees}\")\n",
    "print(f\"Times player got over 63 points Greedy: {round((Ysum/repeat),2)*100}\\nTimes player got over 63 points Probability Distribution and Utility Calculation: {percentage_larger_than_63}\")"
   ]
  }
 ],
 "metadata": {
  "kernelspec": {
   "display_name": "Python 3",
   "language": "python",
   "name": "python3"
  },
  "language_info": {
   "codemirror_mode": {
    "name": "ipython",
    "version": 3
   },
   "file_extension": ".py",
   "mimetype": "text/x-python",
   "name": "python",
   "nbconvert_exporter": "python",
   "pygments_lexer": "ipython3",
   "version": "3.12.7"
  }
 },
 "nbformat": 4,
 "nbformat_minor": 2
}
