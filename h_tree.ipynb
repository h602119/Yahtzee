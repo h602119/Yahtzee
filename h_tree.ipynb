{
 "cells": [
  {
   "cell_type": "code",
   "execution_count": 39,
   "metadata": {},
   "outputs": [],
   "source": [
    "import random\n",
    "import matplotlib.pyplot as plt\n",
    "import math\n",
    "from math import comb"
   ]
  },
  {
   "cell_type": "code",
   "execution_count": 46,
   "metadata": {},
   "outputs": [
    {
     "name": "stdout",
     "output_type": "stream",
     "text": [
      "[5, 3]\n"
     ]
    }
   ],
   "source": [
    "dice = []\n",
    "available = [1,2,3,4,5,6]\n",
    "\n",
    "#Keep or discard: Where 0 is discard and 1 is keep\n",
    "kORd = [0,1]\n",
    "\n",
    "for _ in range(2):\n",
    "    dice.append(random.randint(1, 6))\n",
    "\n",
    "print(dice)\n",
    "\n"
   ]
  },
  {
   "cell_type": "code",
   "execution_count": null,
   "metadata": {},
   "outputs": [
    {
     "name": "stdout",
     "output_type": "stream",
     "text": [
      "{0: [0, 0], 1: [0, 1], 2: [1, 0], 3: [1, 1]}\n"
     ]
    }
   ],
   "source": [
    "# Gives every 0 or 1 (discard or keep) combination for the number of dice we trow.\n",
    "def dynamic_loop(depth, current_depth=0, current_combination=[], result=None):\n",
    "    global i\n",
    "    if result is None:\n",
    "        result = {}\n",
    "        i = 0\n",
    "    \n",
    "    if current_depth == depth:\n",
    "        result[i] = current_combination\n",
    "        i += 1\n",
    "        return result\n",
    "    \n",
    "    for value in kORd:\n",
    "        dynamic_loop(depth, current_depth + 1, current_combination + [value], result)\n",
    "    \n",
    "    return result\n",
    "\n",
    "combinations_dict = dynamic_loop(len(dice))\n",
    "print(combinations_dict)"
   ]
  },
  {
   "cell_type": "code",
   "execution_count": 137,
   "metadata": {},
   "outputs": [],
   "source": [
    "# Calculating the probability of getting num, given that we're keeping the numbers in keepList\n",
    "def inference(keepList, dice):\n",
    "    inf = 0\n",
    "    probThrow = 1/6\n",
    "    probEqual = 1\n",
    "    # Calculate Chance of 1 of a kind, 2 of a kind ... n of a kind and add to inf\n",
    "    for i in range(1,len(dice)+1):\n",
    "        for k in keepList:\n",
    "            amount = dice.count(num)\n",
    "            print(f\"{i} of a kind of {num}: we have {amount}\")\n",
    "\n",
    "    \n",
    "    print(f\"Inference Score num: {num}, dice: {dice}, keep: {keepList}, is :: {inf}\")\n",
    "    return inf\n",
    "\n",
    "def xOfAKind(x, dice):\n",
    "\n",
    "    #Return 0 if theres less dice available to us, than what we want.\n",
    "    if len(dice) < x:\n",
    "        return 0\n",
    "    \n",
    "    # Number of dice with the same face as the one we want\n",
    "    amount = dice.count(xOfAKind)\n",
    "    \n",
    "    # Probability of rolling a specific number on a die\n",
    "    p_outcome = 1 / 6\n",
    "    n_p_outcome = 1-p_outcome\n",
    "\n",
    "    # n = number of dice we're rolling\n",
    "    # k = number of additional dice needed to match the value we're aiming for\n",
    "    n = len(dice)-amount\n",
    "    k = x-amount\n",
    "\n",
    "    results = (comb(n, k))*(p_outcome**k)*(n_p_outcome**(n-k))\n",
    "\n",
    "\n",
    "    return results"
   ]
  },
  {
   "cell_type": "code",
   "execution_count": 138,
   "metadata": {},
   "outputs": [
    {
     "ename": "TypeError",
     "evalue": "inference() takes 2 positional arguments but 3 were given",
     "output_type": "error",
     "traceback": [
      "\u001b[1;31m---------------------------------------------------------------------------\u001b[0m",
      "\u001b[1;31mTypeError\u001b[0m                                 Traceback (most recent call last)",
      "Cell \u001b[1;32mIn[138], line 4\u001b[0m\n\u001b[0;32m      2\u001b[0m keepList \u001b[38;5;241m=\u001b[39m [\u001b[38;5;241m1\u001b[39m, \u001b[38;5;241m0\u001b[39m]\n\u001b[0;32m      3\u001b[0m num \u001b[38;5;241m=\u001b[39m \u001b[38;5;241m4\u001b[39m\n\u001b[1;32m----> 4\u001b[0m \u001b[43minference\u001b[49m\u001b[43m(\u001b[49m\u001b[43mnum\u001b[49m\u001b[43m,\u001b[49m\u001b[43m \u001b[49m\u001b[43mkeepList\u001b[49m\u001b[43m,\u001b[49m\u001b[43m \u001b[49m\u001b[43mdice\u001b[49m\u001b[43m)\u001b[49m\n\u001b[0;32m      6\u001b[0m xof \u001b[38;5;241m=\u001b[39m xOfAKind(\u001b[38;5;241m1\u001b[39m, \u001b[38;5;241m5\u001b[39m, [\u001b[38;5;241m5\u001b[39m])\n\u001b[0;32m      7\u001b[0m \u001b[38;5;28mprint\u001b[39m(xof)\n",
      "\u001b[1;31mTypeError\u001b[0m: inference() takes 2 positional arguments but 3 were given"
     ]
    }
   ],
   "source": [
    "dice = [5, 5]\n",
    "keepList = [1, 0]\n",
    "num = 4\n",
    "inference(num, keepList, dice)\n",
    "\n",
    "xof = xOfAKind(1, 5, [5])\n",
    "print(xof)"
   ]
  },
  {
   "cell_type": "code",
   "execution_count": 136,
   "metadata": {},
   "outputs": [
    {
     "ename": "TypeError",
     "evalue": "inference() missing 1 required positional argument: 'dice'",
     "output_type": "error",
     "traceback": [
      "\u001b[1;31m---------------------------------------------------------------------------\u001b[0m",
      "\u001b[1;31mTypeError\u001b[0m                                 Traceback (most recent call last)",
      "Cell \u001b[1;32mIn[136], line 2\u001b[0m\n\u001b[0;32m      1\u001b[0m \u001b[38;5;28;01mfor\u001b[39;00m c \u001b[38;5;129;01min\u001b[39;00m combinations_dict\u001b[38;5;241m.\u001b[39mitems():\n\u001b[1;32m----> 2\u001b[0m     \u001b[43minference\u001b[49m\u001b[43m(\u001b[49m\u001b[43mc\u001b[49m\u001b[43m[\u001b[49m\u001b[38;5;241;43m1\u001b[39;49m\u001b[43m]\u001b[49m\u001b[43m,\u001b[49m\u001b[43m \u001b[49m\u001b[43mdice\u001b[49m\u001b[43m)\u001b[49m\n",
      "\u001b[1;31mTypeError\u001b[0m: inference() missing 1 required positional argument: 'dice'"
     ]
    }
   ],
   "source": [
    "for c in combinations_dict.items():\n",
    "    inference(c[1], dice)\n",
    "    "
   ]
  },
  {
   "cell_type": "code",
   "execution_count": null,
   "metadata": {},
   "outputs": [],
   "source": []
  }
 ],
 "metadata": {
  "kernelspec": {
   "display_name": "Python 3",
   "language": "python",
   "name": "python3"
  },
  "language_info": {
   "codemirror_mode": {
    "name": "ipython",
    "version": 3
   },
   "file_extension": ".py",
   "mimetype": "text/x-python",
   "name": "python",
   "nbconvert_exporter": "python",
   "pygments_lexer": "ipython3",
   "version": "3.13.0"
  }
 },
 "nbformat": 4,
 "nbformat_minor": 2
}
